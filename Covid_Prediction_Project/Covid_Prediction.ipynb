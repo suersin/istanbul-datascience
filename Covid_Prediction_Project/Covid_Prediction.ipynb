{
 "cells": [
  {
   "cell_type": "markdown",
   "id": "3d604382",
   "metadata": {},
   "source": [
    "This website is built for predicting whether the patient is in high risk or not based on some current symptoms and medical history. It is used The model is trained by the dataset provided by the Mexican government (see link: https://datos.gob.mx/busca/dataset/informacion-referente-a-casos-covid-19-en-mexico)"
   ]
  },
  {
   "cell_type": "code",
   "execution_count": 274,
   "id": "0e0a3bbb",
   "metadata": {},
   "outputs": [],
   "source": [
    "import pandas as pd\n",
    "import numpy as np\n",
    "import matplotlib.pyplot as plt\n",
    "import seaborn as sns\n",
    "\n",
    "from sklearn.linear_model import LogisticRegression\n",
    "from sklearn.model_selection import train_test_split\n",
    "from sklearn.metrics import confusion_matrix, classification_report\n",
    "from sklearn.preprocessing import StandardScaler\n",
    "from sklearn.model_selection import cross_val_score\n",
    "\n",
    "from sklearn.neighbors import KNeighborsClassifier\n",
    "from sklearn.metrics import precision_score, recall_score, precision_recall_curve, f1_score\n",
    "from sklearn.metrics import roc_auc_score, roc_curve,accuracy_score\n",
    "from sklearn.naive_bayes import GaussianNB\n",
    "from sklearn.svm import LinearSVC, SVC\n",
    "from xgboost import XGBClassifier\n",
    "from collections import Counter\n",
    "from mlxtend.plotting import plot_decision_regions\n",
    "\n",
    "from sklearn.ensemble import RandomForestClassifier\n",
    "from sklearn.linear_model import Perceptron\n",
    "from sklearn.tree import DecisionTreeClassifier\n",
    "from sklearn.metrics import mean_squared_error, r2_score\n",
    "\n",
    "import warnings\n",
    "warnings.filterwarnings('ignore')"
   ]
  },
  {
   "cell_type": "code",
   "execution_count": 275,
   "id": "cd0b5ff6",
   "metadata": {},
   "outputs": [
    {
     "data": {
      "text/html": [
       "<div>\n",
       "<style scoped>\n",
       "    .dataframe tbody tr th:only-of-type {\n",
       "        vertical-align: middle;\n",
       "    }\n",
       "\n",
       "    .dataframe tbody tr th {\n",
       "        vertical-align: top;\n",
       "    }\n",
       "\n",
       "    .dataframe thead th {\n",
       "        text-align: right;\n",
       "    }\n",
       "</style>\n",
       "<table border=\"1\" class=\"dataframe\">\n",
       "  <thead>\n",
       "    <tr style=\"text-align: right;\">\n",
       "      <th></th>\n",
       "      <th>USMER</th>\n",
       "      <th>MEDICAL_UNIT</th>\n",
       "      <th>SEX</th>\n",
       "      <th>PATIENT_TYPE</th>\n",
       "      <th>DATE_DIED</th>\n",
       "      <th>INTUBED</th>\n",
       "      <th>PNEUMONIA</th>\n",
       "      <th>AGE</th>\n",
       "      <th>PREGNANT</th>\n",
       "      <th>DIABETES</th>\n",
       "      <th>...</th>\n",
       "      <th>ASTHMA</th>\n",
       "      <th>INMSUPR</th>\n",
       "      <th>HIPERTENSION</th>\n",
       "      <th>OTHER_DISEASE</th>\n",
       "      <th>CARDIOVASCULAR</th>\n",
       "      <th>OBESITY</th>\n",
       "      <th>RENAL_CHRONIC</th>\n",
       "      <th>TOBACCO</th>\n",
       "      <th>CLASIFFICATION_FINAL</th>\n",
       "      <th>ICU</th>\n",
       "    </tr>\n",
       "  </thead>\n",
       "  <tbody>\n",
       "    <tr>\n",
       "      <th>0</th>\n",
       "      <td>2</td>\n",
       "      <td>1</td>\n",
       "      <td>1</td>\n",
       "      <td>1</td>\n",
       "      <td>03/05/2020</td>\n",
       "      <td>97</td>\n",
       "      <td>1</td>\n",
       "      <td>65</td>\n",
       "      <td>2</td>\n",
       "      <td>2</td>\n",
       "      <td>...</td>\n",
       "      <td>2</td>\n",
       "      <td>2</td>\n",
       "      <td>1</td>\n",
       "      <td>2</td>\n",
       "      <td>2</td>\n",
       "      <td>2</td>\n",
       "      <td>2</td>\n",
       "      <td>2</td>\n",
       "      <td>3</td>\n",
       "      <td>97</td>\n",
       "    </tr>\n",
       "    <tr>\n",
       "      <th>1</th>\n",
       "      <td>2</td>\n",
       "      <td>1</td>\n",
       "      <td>2</td>\n",
       "      <td>1</td>\n",
       "      <td>03/06/2020</td>\n",
       "      <td>97</td>\n",
       "      <td>1</td>\n",
       "      <td>72</td>\n",
       "      <td>97</td>\n",
       "      <td>2</td>\n",
       "      <td>...</td>\n",
       "      <td>2</td>\n",
       "      <td>2</td>\n",
       "      <td>1</td>\n",
       "      <td>2</td>\n",
       "      <td>2</td>\n",
       "      <td>1</td>\n",
       "      <td>1</td>\n",
       "      <td>2</td>\n",
       "      <td>5</td>\n",
       "      <td>97</td>\n",
       "    </tr>\n",
       "    <tr>\n",
       "      <th>2</th>\n",
       "      <td>2</td>\n",
       "      <td>1</td>\n",
       "      <td>2</td>\n",
       "      <td>2</td>\n",
       "      <td>09/06/2020</td>\n",
       "      <td>1</td>\n",
       "      <td>2</td>\n",
       "      <td>55</td>\n",
       "      <td>97</td>\n",
       "      <td>1</td>\n",
       "      <td>...</td>\n",
       "      <td>2</td>\n",
       "      <td>2</td>\n",
       "      <td>2</td>\n",
       "      <td>2</td>\n",
       "      <td>2</td>\n",
       "      <td>2</td>\n",
       "      <td>2</td>\n",
       "      <td>2</td>\n",
       "      <td>3</td>\n",
       "      <td>2</td>\n",
       "    </tr>\n",
       "    <tr>\n",
       "      <th>3</th>\n",
       "      <td>2</td>\n",
       "      <td>1</td>\n",
       "      <td>1</td>\n",
       "      <td>1</td>\n",
       "      <td>12/06/2020</td>\n",
       "      <td>97</td>\n",
       "      <td>2</td>\n",
       "      <td>53</td>\n",
       "      <td>2</td>\n",
       "      <td>2</td>\n",
       "      <td>...</td>\n",
       "      <td>2</td>\n",
       "      <td>2</td>\n",
       "      <td>2</td>\n",
       "      <td>2</td>\n",
       "      <td>2</td>\n",
       "      <td>2</td>\n",
       "      <td>2</td>\n",
       "      <td>2</td>\n",
       "      <td>7</td>\n",
       "      <td>97</td>\n",
       "    </tr>\n",
       "    <tr>\n",
       "      <th>4</th>\n",
       "      <td>2</td>\n",
       "      <td>1</td>\n",
       "      <td>2</td>\n",
       "      <td>1</td>\n",
       "      <td>21/06/2020</td>\n",
       "      <td>97</td>\n",
       "      <td>2</td>\n",
       "      <td>68</td>\n",
       "      <td>97</td>\n",
       "      <td>1</td>\n",
       "      <td>...</td>\n",
       "      <td>2</td>\n",
       "      <td>2</td>\n",
       "      <td>1</td>\n",
       "      <td>2</td>\n",
       "      <td>2</td>\n",
       "      <td>2</td>\n",
       "      <td>2</td>\n",
       "      <td>2</td>\n",
       "      <td>3</td>\n",
       "      <td>97</td>\n",
       "    </tr>\n",
       "    <tr>\n",
       "      <th>...</th>\n",
       "      <td>...</td>\n",
       "      <td>...</td>\n",
       "      <td>...</td>\n",
       "      <td>...</td>\n",
       "      <td>...</td>\n",
       "      <td>...</td>\n",
       "      <td>...</td>\n",
       "      <td>...</td>\n",
       "      <td>...</td>\n",
       "      <td>...</td>\n",
       "      <td>...</td>\n",
       "      <td>...</td>\n",
       "      <td>...</td>\n",
       "      <td>...</td>\n",
       "      <td>...</td>\n",
       "      <td>...</td>\n",
       "      <td>...</td>\n",
       "      <td>...</td>\n",
       "      <td>...</td>\n",
       "      <td>...</td>\n",
       "      <td>...</td>\n",
       "    </tr>\n",
       "    <tr>\n",
       "      <th>1048570</th>\n",
       "      <td>2</td>\n",
       "      <td>13</td>\n",
       "      <td>2</td>\n",
       "      <td>1</td>\n",
       "      <td>9999-99-99</td>\n",
       "      <td>97</td>\n",
       "      <td>2</td>\n",
       "      <td>40</td>\n",
       "      <td>97</td>\n",
       "      <td>2</td>\n",
       "      <td>...</td>\n",
       "      <td>2</td>\n",
       "      <td>2</td>\n",
       "      <td>2</td>\n",
       "      <td>2</td>\n",
       "      <td>2</td>\n",
       "      <td>2</td>\n",
       "      <td>2</td>\n",
       "      <td>2</td>\n",
       "      <td>7</td>\n",
       "      <td>97</td>\n",
       "    </tr>\n",
       "    <tr>\n",
       "      <th>1048571</th>\n",
       "      <td>1</td>\n",
       "      <td>13</td>\n",
       "      <td>2</td>\n",
       "      <td>2</td>\n",
       "      <td>9999-99-99</td>\n",
       "      <td>2</td>\n",
       "      <td>2</td>\n",
       "      <td>51</td>\n",
       "      <td>97</td>\n",
       "      <td>2</td>\n",
       "      <td>...</td>\n",
       "      <td>2</td>\n",
       "      <td>2</td>\n",
       "      <td>1</td>\n",
       "      <td>2</td>\n",
       "      <td>2</td>\n",
       "      <td>2</td>\n",
       "      <td>2</td>\n",
       "      <td>2</td>\n",
       "      <td>7</td>\n",
       "      <td>2</td>\n",
       "    </tr>\n",
       "    <tr>\n",
       "      <th>1048572</th>\n",
       "      <td>2</td>\n",
       "      <td>13</td>\n",
       "      <td>2</td>\n",
       "      <td>1</td>\n",
       "      <td>9999-99-99</td>\n",
       "      <td>97</td>\n",
       "      <td>2</td>\n",
       "      <td>55</td>\n",
       "      <td>97</td>\n",
       "      <td>2</td>\n",
       "      <td>...</td>\n",
       "      <td>2</td>\n",
       "      <td>2</td>\n",
       "      <td>2</td>\n",
       "      <td>2</td>\n",
       "      <td>2</td>\n",
       "      <td>2</td>\n",
       "      <td>2</td>\n",
       "      <td>2</td>\n",
       "      <td>7</td>\n",
       "      <td>97</td>\n",
       "    </tr>\n",
       "    <tr>\n",
       "      <th>1048573</th>\n",
       "      <td>2</td>\n",
       "      <td>13</td>\n",
       "      <td>2</td>\n",
       "      <td>1</td>\n",
       "      <td>9999-99-99</td>\n",
       "      <td>97</td>\n",
       "      <td>2</td>\n",
       "      <td>28</td>\n",
       "      <td>97</td>\n",
       "      <td>2</td>\n",
       "      <td>...</td>\n",
       "      <td>2</td>\n",
       "      <td>2</td>\n",
       "      <td>2</td>\n",
       "      <td>2</td>\n",
       "      <td>2</td>\n",
       "      <td>2</td>\n",
       "      <td>2</td>\n",
       "      <td>2</td>\n",
       "      <td>7</td>\n",
       "      <td>97</td>\n",
       "    </tr>\n",
       "    <tr>\n",
       "      <th>1048574</th>\n",
       "      <td>2</td>\n",
       "      <td>13</td>\n",
       "      <td>2</td>\n",
       "      <td>1</td>\n",
       "      <td>9999-99-99</td>\n",
       "      <td>97</td>\n",
       "      <td>2</td>\n",
       "      <td>52</td>\n",
       "      <td>97</td>\n",
       "      <td>2</td>\n",
       "      <td>...</td>\n",
       "      <td>2</td>\n",
       "      <td>2</td>\n",
       "      <td>2</td>\n",
       "      <td>2</td>\n",
       "      <td>2</td>\n",
       "      <td>2</td>\n",
       "      <td>2</td>\n",
       "      <td>2</td>\n",
       "      <td>7</td>\n",
       "      <td>97</td>\n",
       "    </tr>\n",
       "  </tbody>\n",
       "</table>\n",
       "<p>1048575 rows × 21 columns</p>\n",
       "</div>"
      ],
      "text/plain": [
       "         USMER  MEDICAL_UNIT  SEX  PATIENT_TYPE   DATE_DIED  INTUBED  \\\n",
       "0            2             1    1             1  03/05/2020       97   \n",
       "1            2             1    2             1  03/06/2020       97   \n",
       "2            2             1    2             2  09/06/2020        1   \n",
       "3            2             1    1             1  12/06/2020       97   \n",
       "4            2             1    2             1  21/06/2020       97   \n",
       "...        ...           ...  ...           ...         ...      ...   \n",
       "1048570      2            13    2             1  9999-99-99       97   \n",
       "1048571      1            13    2             2  9999-99-99        2   \n",
       "1048572      2            13    2             1  9999-99-99       97   \n",
       "1048573      2            13    2             1  9999-99-99       97   \n",
       "1048574      2            13    2             1  9999-99-99       97   \n",
       "\n",
       "         PNEUMONIA  AGE  PREGNANT  DIABETES  ...  ASTHMA  INMSUPR  \\\n",
       "0                1   65         2         2  ...       2        2   \n",
       "1                1   72        97         2  ...       2        2   \n",
       "2                2   55        97         1  ...       2        2   \n",
       "3                2   53         2         2  ...       2        2   \n",
       "4                2   68        97         1  ...       2        2   \n",
       "...            ...  ...       ...       ...  ...     ...      ...   \n",
       "1048570          2   40        97         2  ...       2        2   \n",
       "1048571          2   51        97         2  ...       2        2   \n",
       "1048572          2   55        97         2  ...       2        2   \n",
       "1048573          2   28        97         2  ...       2        2   \n",
       "1048574          2   52        97         2  ...       2        2   \n",
       "\n",
       "         HIPERTENSION  OTHER_DISEASE  CARDIOVASCULAR  OBESITY  RENAL_CHRONIC  \\\n",
       "0                   1              2               2        2              2   \n",
       "1                   1              2               2        1              1   \n",
       "2                   2              2               2        2              2   \n",
       "3                   2              2               2        2              2   \n",
       "4                   1              2               2        2              2   \n",
       "...               ...            ...             ...      ...            ...   \n",
       "1048570             2              2               2        2              2   \n",
       "1048571             1              2               2        2              2   \n",
       "1048572             2              2               2        2              2   \n",
       "1048573             2              2               2        2              2   \n",
       "1048574             2              2               2        2              2   \n",
       "\n",
       "         TOBACCO  CLASIFFICATION_FINAL  ICU  \n",
       "0              2                     3   97  \n",
       "1              2                     5   97  \n",
       "2              2                     3    2  \n",
       "3              2                     7   97  \n",
       "4              2                     3   97  \n",
       "...          ...                   ...  ...  \n",
       "1048570        2                     7   97  \n",
       "1048571        2                     7    2  \n",
       "1048572        2                     7   97  \n",
       "1048573        2                     7   97  \n",
       "1048574        2                     7   97  \n",
       "\n",
       "[1048575 rows x 21 columns]"
      ]
     },
     "execution_count": 275,
     "metadata": {},
     "output_type": "execute_result"
    }
   ],
   "source": [
    "df = pd.read_csv(\"covid_data.csv\")\n",
    "df"
   ]
  },
  {
   "cell_type": "markdown",
   "id": "9bf8595b",
   "metadata": {},
   "source": [
    "The dataset was provided by the Mexican government (link). This dataset contains an enormous number of anonymized patient-related information including pre-conditions. The raw dataset consists of 21 unique features and 1,048,576 unique patients. In the Boolean features,**1 means \"yes\" and 2 means \"no\". values as 97 and 99 are missing data**.\n",
    "\n",
    "**sex**: 1 for female and 2 for male. \n",
    "\n",
    "**classification**: covid test findings. Values 1-3 mean that the patient was diagnosed with covid in different\n",
    "degrees. 4 or higher means that the patient is not a carrier of covid or that the test is inconclusive. \n",
    "\n",
    "**patient type**: type of care the patient received in the unit. 1 for returned home and 2 for hospitalization.\n",
    "\n",
    "**pneumonia**: whether the patient already have air sacs inflammation or not. akciğer hava kesesi iltihabı \n",
    "\n",
    "**pregnancy**: whether the patient is pregnant or not.\n",
    "\n",
    "**diabetes**: whether the patient has diabetes or not.\n",
    "\n",
    "**copd**: Indicates whether the patient has Chronic obstructive pulmonary disease or not. (**Kronik akciğer hastalığı**)\n",
    "\n",
    "**asthma**: whether the patient has asthma or not.\n",
    "\n",
    "**inmsupr**: whether the patient is immunosuppressed or not. (**bağışıklığın çökmesi**)\n",
    "\n",
    "**hypertension**: whether the patient has hypertension or not.\n",
    "\n",
    "**cardiovascular**: whether the patient has heart or blood vessels related disease.\n",
    "\n",
    "**renal chronic**: whether the patient has chronic renal disease or not.\n",
    "\n",
    "**other disease**: whether the patient has other disease or not.\n",
    "\n",
    "**obesity**: whether the patient is obese or not.\n",
    "\n",
    "**tobacco**: whether the patient is a tobacco user.\n",
    "\n",
    "**usmr**: Indicates whether the patient treated medical units of the first, second or third level.\n",
    "\n",
    "**medical unit**: type of institution of the National Health System that provided the care.\n",
    "\n",
    "**intubed**: whether the patient was connected to the ventilator. (suni solunum)\n",
    "\n",
    "**icu**: Indicates whether the patient had been admitted to an Intensive Care Unit. (yoğun bakıma giriş)\n",
    "\n",
    "**date died**: If the patient died indicate the date of death, and 9999-99-99 otherwise."
   ]
  },
  {
   "cell_type": "code",
   "execution_count": 276,
   "id": "6120ec21",
   "metadata": {
    "scrolled": false
   },
   "outputs": [
    {
     "name": "stdout",
     "output_type": "stream",
     "text": [
      "<class 'pandas.core.frame.DataFrame'>\n",
      "RangeIndex: 1048575 entries, 0 to 1048574\n",
      "Data columns (total 21 columns):\n",
      " #   Column                Non-Null Count    Dtype \n",
      "---  ------                --------------    ----- \n",
      " 0   USMER                 1048575 non-null  int64 \n",
      " 1   MEDICAL_UNIT          1048575 non-null  int64 \n",
      " 2   SEX                   1048575 non-null  int64 \n",
      " 3   PATIENT_TYPE          1048575 non-null  int64 \n",
      " 4   DATE_DIED             1048575 non-null  object\n",
      " 5   INTUBED               1048575 non-null  int64 \n",
      " 6   PNEUMONIA             1048575 non-null  int64 \n",
      " 7   AGE                   1048575 non-null  int64 \n",
      " 8   PREGNANT              1048575 non-null  int64 \n",
      " 9   DIABETES              1048575 non-null  int64 \n",
      " 10  COPD                  1048575 non-null  int64 \n",
      " 11  ASTHMA                1048575 non-null  int64 \n",
      " 12  INMSUPR               1048575 non-null  int64 \n",
      " 13  HIPERTENSION          1048575 non-null  int64 \n",
      " 14  OTHER_DISEASE         1048575 non-null  int64 \n",
      " 15  CARDIOVASCULAR        1048575 non-null  int64 \n",
      " 16  OBESITY               1048575 non-null  int64 \n",
      " 17  RENAL_CHRONIC         1048575 non-null  int64 \n",
      " 18  TOBACCO               1048575 non-null  int64 \n",
      " 19  CLASIFFICATION_FINAL  1048575 non-null  int64 \n",
      " 20  ICU                   1048575 non-null  int64 \n",
      "dtypes: int64(20), object(1)\n",
      "memory usage: 168.0+ MB\n"
     ]
    }
   ],
   "source": [
    "df.info()"
   ]
  },
  {
   "cell_type": "markdown",
   "id": "0f6b2ff8",
   "metadata": {},
   "source": [
    "# DATA CLEANING & MANIPULATION"
   ]
  },
  {
   "cell_type": "code",
   "execution_count": 277,
   "id": "2d802bb6",
   "metadata": {
    "scrolled": true
   },
   "outputs": [],
   "source": [
    "df.SEX = pd.get_dummies(df[\"SEX\"],drop_first=True) # Erkek ise 1, kız ise 0"
   ]
  },
  {
   "cell_type": "code",
   "execution_count": 278,
   "id": "b3e0c177",
   "metadata": {},
   "outputs": [
    {
     "data": {
      "text/plain": [
       "1    848544\n",
       "2    200031\n",
       "Name: PATIENT_TYPE, dtype: int64"
      ]
     },
     "execution_count": 278,
     "metadata": {},
     "output_type": "execute_result"
    }
   ],
   "source": [
    "# 1 for returned home and 2 for hospitalization.\n",
    "df.PATIENT_TYPE.value_counts()"
   ]
  },
  {
   "cell_type": "code",
   "execution_count": 279,
   "id": "0e306607",
   "metadata": {},
   "outputs": [],
   "source": [
    "# ask hospitazation? if yes 1 otherwise 0\n",
    "df.PATIENT_TYPE = pd.get_dummies(df.PATIENT_TYPE)[2]"
   ]
  },
  {
   "cell_type": "code",
   "execution_count": 280,
   "id": "4865dcb7",
   "metadata": {},
   "outputs": [],
   "source": [
    "df.rename(columns = {'PATIENT_TYPE':'HOSP'},inplace=True)"
   ]
  },
  {
   "cell_type": "markdown",
   "id": "98ccad06",
   "metadata": {},
   "source": [
    "Construction of the target column "
   ]
  },
  {
   "cell_type": "code",
   "execution_count": 281,
   "id": "bc9bd72f",
   "metadata": {
    "scrolled": true
   },
   "outputs": [
    {
     "data": {
      "text/plain": [
       "9999-99-99    971633\n",
       "06/07/2020      1000\n",
       "07/07/2020       996\n",
       "13/07/2020       990\n",
       "16/06/2020       979\n",
       "               ...  \n",
       "24/11/2020         1\n",
       "17/12/2020         1\n",
       "08/12/2020         1\n",
       "16/03/2021         1\n",
       "22/04/2021         1\n",
       "Name: DATE_DIED, Length: 401, dtype: int64"
      ]
     },
     "execution_count": 281,
     "metadata": {},
     "output_type": "execute_result"
    }
   ],
   "source": [
    "df.DATE_DIED.value_counts()"
   ]
  },
  {
   "cell_type": "code",
   "execution_count": 282,
   "id": "478a7769",
   "metadata": {},
   "outputs": [
    {
     "data": {
      "text/html": [
       "<div>\n",
       "<style scoped>\n",
       "    .dataframe tbody tr th:only-of-type {\n",
       "        vertical-align: middle;\n",
       "    }\n",
       "\n",
       "    .dataframe tbody tr th {\n",
       "        vertical-align: top;\n",
       "    }\n",
       "\n",
       "    .dataframe thead th {\n",
       "        text-align: right;\n",
       "    }\n",
       "</style>\n",
       "<table border=\"1\" class=\"dataframe\">\n",
       "  <thead>\n",
       "    <tr style=\"text-align: right;\">\n",
       "      <th></th>\n",
       "      <th>DIED</th>\n",
       "      <th>DATE_DIED</th>\n",
       "    </tr>\n",
       "  </thead>\n",
       "  <tbody>\n",
       "    <tr>\n",
       "      <th>0</th>\n",
       "      <td>1</td>\n",
       "      <td>03/05/2020</td>\n",
       "    </tr>\n",
       "    <tr>\n",
       "      <th>1</th>\n",
       "      <td>1</td>\n",
       "      <td>03/06/2020</td>\n",
       "    </tr>\n",
       "    <tr>\n",
       "      <th>2</th>\n",
       "      <td>1</td>\n",
       "      <td>09/06/2020</td>\n",
       "    </tr>\n",
       "    <tr>\n",
       "      <th>3</th>\n",
       "      <td>1</td>\n",
       "      <td>12/06/2020</td>\n",
       "    </tr>\n",
       "    <tr>\n",
       "      <th>4</th>\n",
       "      <td>1</td>\n",
       "      <td>21/06/2020</td>\n",
       "    </tr>\n",
       "    <tr>\n",
       "      <th>...</th>\n",
       "      <td>...</td>\n",
       "      <td>...</td>\n",
       "    </tr>\n",
       "    <tr>\n",
       "      <th>1048570</th>\n",
       "      <td>0</td>\n",
       "      <td>9999-99-99</td>\n",
       "    </tr>\n",
       "    <tr>\n",
       "      <th>1048571</th>\n",
       "      <td>0</td>\n",
       "      <td>9999-99-99</td>\n",
       "    </tr>\n",
       "    <tr>\n",
       "      <th>1048572</th>\n",
       "      <td>0</td>\n",
       "      <td>9999-99-99</td>\n",
       "    </tr>\n",
       "    <tr>\n",
       "      <th>1048573</th>\n",
       "      <td>0</td>\n",
       "      <td>9999-99-99</td>\n",
       "    </tr>\n",
       "    <tr>\n",
       "      <th>1048574</th>\n",
       "      <td>0</td>\n",
       "      <td>9999-99-99</td>\n",
       "    </tr>\n",
       "  </tbody>\n",
       "</table>\n",
       "<p>1048575 rows × 2 columns</p>\n",
       "</div>"
      ],
      "text/plain": [
       "         DIED   DATE_DIED\n",
       "0           1  03/05/2020\n",
       "1           1  03/06/2020\n",
       "2           1  09/06/2020\n",
       "3           1  12/06/2020\n",
       "4           1  21/06/2020\n",
       "...       ...         ...\n",
       "1048570     0  9999-99-99\n",
       "1048571     0  9999-99-99\n",
       "1048572     0  9999-99-99\n",
       "1048573     0  9999-99-99\n",
       "1048574     0  9999-99-99\n",
       "\n",
       "[1048575 rows x 2 columns]"
      ]
     },
     "execution_count": 282,
     "metadata": {},
     "output_type": "execute_result"
    }
   ],
   "source": [
    "df[\"DIED\"] = df.DATE_DIED.apply(lambda x: 0 if x == \"9999-99-99\" else 1 )\n",
    "# 1 for dead, 0 for alive\n",
    "df[[\"DIED\",\"DATE_DIED\"]] "
   ]
  },
  {
   "cell_type": "markdown",
   "id": "0dfddc34",
   "metadata": {},
   "source": [
    "There are lots of missing values in the column INTUBE. So we drop it!"
   ]
  },
  {
   "cell_type": "code",
   "execution_count": 283,
   "id": "093c1210",
   "metadata": {},
   "outputs": [],
   "source": [
    "df.drop(columns=[\"INTUBED\"],inplace=True)"
   ]
  },
  {
   "cell_type": "markdown",
   "id": "5e0ed459",
   "metadata": {},
   "source": [
    "We set nan values for 99 in the column PNEUMONIA"
   ]
  },
  {
   "cell_type": "code",
   "execution_count": 284,
   "id": "8cec7b86",
   "metadata": {
    "scrolled": true
   },
   "outputs": [
    {
     "data": {
      "text/plain": [
       "2     892534\n",
       "1     140038\n",
       "99     16003\n",
       "Name: PNEUMONIA, dtype: int64"
      ]
     },
     "execution_count": 284,
     "metadata": {},
     "output_type": "execute_result"
    }
   ],
   "source": [
    "df.PNEUMONIA.value_counts()"
   ]
  },
  {
   "cell_type": "code",
   "execution_count": 285,
   "id": "86706fd9",
   "metadata": {
    "scrolled": true
   },
   "outputs": [],
   "source": [
    "df.PNEUMONIA = df.PNEUMONIA.apply(lambda x : np.NaN if x==99 else x)\n",
    "df.drop(df[df.PNEUMONIA.isna()==True].index, inplace=True)"
   ]
  },
  {
   "cell_type": "code",
   "execution_count": 286,
   "id": "98379d44",
   "metadata": {
    "scrolled": true
   },
   "outputs": [
    {
     "data": {
      "text/plain": [
       "0          1\n",
       "1          1\n",
       "2          2\n",
       "3          2\n",
       "4          2\n",
       "          ..\n",
       "1048570    2\n",
       "1048571    2\n",
       "1048572    2\n",
       "1048573    2\n",
       "1048574    2\n",
       "Name: PNEUMONIA, Length: 1032572, dtype: int32"
      ]
     },
     "execution_count": 286,
     "metadata": {},
     "output_type": "execute_result"
    }
   ],
   "source": [
    "df.PNEUMONIA.astype(int)\n",
    "# 1 yes, 2 no "
   ]
  },
  {
   "cell_type": "code",
   "execution_count": 287,
   "id": "33ce13fc",
   "metadata": {},
   "outputs": [],
   "source": [
    "df.PNEUMONIA = pd.get_dummies(df.PNEUMONIA)[1.0]"
   ]
  },
  {
   "cell_type": "markdown",
   "id": "c6c82899",
   "metadata": {},
   "source": [
    "Pregnant column:"
   ]
  },
  {
   "cell_type": "code",
   "execution_count": 288,
   "id": "f1e8cfb5",
   "metadata": {
    "scrolled": true
   },
   "outputs": [
    {
     "data": {
      "text/plain": [
       "97    516154\n",
       "2     505159\n",
       "1       7870\n",
       "98      3389\n",
       "Name: PREGNANT, dtype: int64"
      ]
     },
     "execution_count": 288,
     "metadata": {},
     "output_type": "execute_result"
    }
   ],
   "source": [
    "df.PREGNANT.value_counts()\n",
    "# 1 yes, 2 no"
   ]
  },
  {
   "cell_type": "markdown",
   "id": "958c1c03",
   "metadata": {},
   "source": [
    "Kadınlarda hamilelik bilgisi olmayan satırları (3754 tane) silelim:"
   ]
  },
  {
   "cell_type": "code",
   "execution_count": 289,
   "id": "9d54cf01",
   "metadata": {},
   "outputs": [],
   "source": [
    "# 3754  tane satır eksilecek\n",
    "df.drop(df[((df.PREGNANT == 97) | (df.PREGNANT == 98)) & (df.SEX == 0)].index,inplace=True)"
   ]
  },
  {
   "cell_type": "code",
   "execution_count": 290,
   "id": "cfd2155f",
   "metadata": {},
   "outputs": [
    {
     "data": {
      "text/plain": [
       "97    516154\n",
       "2     505159\n",
       "1       7870\n",
       "Name: PREGNANT, dtype: int64"
      ]
     },
     "execution_count": 290,
     "metadata": {},
     "output_type": "execute_result"
    }
   ],
   "source": [
    "df.PREGNANT.value_counts()"
   ]
  },
  {
   "cell_type": "code",
   "execution_count": 291,
   "id": "1076f169",
   "metadata": {},
   "outputs": [
    {
     "data": {
      "text/plain": [
       "97    516154\n",
       "Name: PREGNANT, dtype: int64"
      ]
     },
     "execution_count": 291,
     "metadata": {},
     "output_type": "execute_result"
    }
   ],
   "source": [
    "df[df.SEX == 1][\"PREGNANT\"].value_counts()"
   ]
  },
  {
   "cell_type": "code",
   "execution_count": 292,
   "id": "b74613e2",
   "metadata": {},
   "outputs": [],
   "source": [
    "df.PREGNANT = df.PREGNANT.apply(lambda x: 2 if x==97 else x)\n",
    "df.PREGNANT = df.PREGNANT.map({1:\"yes\",2:\"no\"})\n",
    "df.PREGNANT = pd.get_dummies(df.PREGNANT, drop_first=True)"
   ]
  },
  {
   "cell_type": "markdown",
   "id": "52e5987c",
   "metadata": {},
   "source": [
    "Assign Nan to values 97 and 98."
   ]
  },
  {
   "cell_type": "code",
   "execution_count": 293,
   "id": "ffe4cedd",
   "metadata": {},
   "outputs": [],
   "source": [
    "df.replace({98:np.NaN,97:np.NaN},inplace=True)"
   ]
  },
  {
   "cell_type": "markdown",
   "id": "84f73eb4",
   "metadata": {},
   "source": [
    "DIABETES:"
   ]
  },
  {
   "cell_type": "code",
   "execution_count": 294,
   "id": "8c83fc25",
   "metadata": {},
   "outputs": [],
   "source": [
    "df.drop(df[df.DIABETES == 98].index,inplace=True)"
   ]
  },
  {
   "cell_type": "code",
   "execution_count": 295,
   "id": "add2e416",
   "metadata": {
    "scrolled": true
   },
   "outputs": [],
   "source": [
    "df.DIABETES = pd.get_dummies(df.DIABETES)[1]"
   ]
  },
  {
   "cell_type": "code",
   "execution_count": 296,
   "id": "f313c2a9",
   "metadata": {
    "scrolled": true
   },
   "outputs": [],
   "source": [
    "df.drop(df[df.COPD.isna()==True][\"COPD\"].index,inplace=True)\n",
    "df.COPD = pd.get_dummies(df.COPD)[1.0]"
   ]
  },
  {
   "cell_type": "code",
   "execution_count": 297,
   "id": "5c8c6732",
   "metadata": {},
   "outputs": [],
   "source": [
    "df.drop(df[df.ASTHMA.isna() == True].index,inplace=True)\n",
    "df.ASTHMA = pd.get_dummies(df.ASTHMA)[1.0]"
   ]
  },
  {
   "cell_type": "code",
   "execution_count": 298,
   "id": "d697c2c3",
   "metadata": {},
   "outputs": [],
   "source": [
    "df.drop(df[df.INMSUPR.isna() == True].index,inplace=True)\n",
    "df.INMSUPR = pd.get_dummies(df.INMSUPR)[1.0]"
   ]
  },
  {
   "cell_type": "code",
   "execution_count": 299,
   "id": "7745a04a",
   "metadata": {},
   "outputs": [],
   "source": [
    "df.drop(df[df.HIPERTENSION.isna() == True].index,inplace=True)\n",
    "df.HIPERTENSION = pd.get_dummies(df.HIPERTENSION)[1.0]"
   ]
  },
  {
   "cell_type": "code",
   "execution_count": 300,
   "id": "8b478575",
   "metadata": {},
   "outputs": [],
   "source": [
    "df.drop(df[df.OTHER_DISEASE.isna() == True].index,inplace=True)\n",
    "df.OTHER_DISEASE = pd.get_dummies(df.OTHER_DISEASE)[1.0]"
   ]
  },
  {
   "cell_type": "code",
   "execution_count": 301,
   "id": "e5822975",
   "metadata": {},
   "outputs": [],
   "source": [
    "df.drop(df[df.CARDIOVASCULAR.isna() == True].index,inplace=True)\n",
    "df.CARDIOVASCULAR = pd.get_dummies(df.CARDIOVASCULAR)[1.0]"
   ]
  },
  {
   "cell_type": "code",
   "execution_count": 302,
   "id": "4460403d",
   "metadata": {},
   "outputs": [],
   "source": [
    "df.drop(df[df.OBESITY.isna() == True].index,inplace=True)\n",
    "df.OBESITY = pd.get_dummies(df.OBESITY)[1.0]"
   ]
  },
  {
   "cell_type": "code",
   "execution_count": 303,
   "id": "12e0b181",
   "metadata": {},
   "outputs": [],
   "source": [
    "df.drop(df[df.RENAL_CHRONIC.isna() == True].index,inplace=True)\n",
    "df.RENAL_CHRONIC = pd.get_dummies(df.RENAL_CHRONIC)[1.0]"
   ]
  },
  {
   "cell_type": "markdown",
   "id": "f3296b3c",
   "metadata": {},
   "source": [
    "CLASIFFICATION_FINAL:"
   ]
  },
  {
   "cell_type": "code",
   "execution_count": 304,
   "id": "91bd5093",
   "metadata": {
    "scrolled": false
   },
   "outputs": [
    {
     "data": {
      "text/plain": [
       "7    489078\n",
       "3    377667\n",
       "6    117445\n",
       "5     25277\n",
       "1      8430\n",
       "4      3093\n",
       "2      1801\n",
       "Name: CLASIFFICATION_FINAL, dtype: int64"
      ]
     },
     "execution_count": 304,
     "metadata": {},
     "output_type": "execute_result"
    }
   ],
   "source": [
    "df.CLASIFFICATION_FINAL.value_counts()"
   ]
  },
  {
   "cell_type": "code",
   "execution_count": 305,
   "id": "8e10d7b0",
   "metadata": {},
   "outputs": [],
   "source": [
    "df.CLASIFFICATION_FINAL.replace([4,5,6,7,1,2,3],[4,4,4,4,1,2,3],inplace=True )"
   ]
  },
  {
   "cell_type": "markdown",
   "id": "be8e5cc9",
   "metadata": {},
   "source": [
    "There are huge missing values in ICU (Yoğun bakım). That is why we drop the column!"
   ]
  },
  {
   "cell_type": "code",
   "execution_count": 306,
   "id": "b450f42f",
   "metadata": {},
   "outputs": [],
   "source": [
    "df.drop(columns=[\"ICU\"],inplace=True)"
   ]
  },
  {
   "cell_type": "code",
   "execution_count": 307,
   "id": "5d471a61",
   "metadata": {},
   "outputs": [],
   "source": [
    "# Not that here 98 is real age \n",
    "df.AGE.replace(np.nan,98,inplace=True)"
   ]
  },
  {
   "cell_type": "code",
   "execution_count": 308,
   "id": "e6639d24",
   "metadata": {
    "scrolled": true
   },
   "outputs": [
    {
     "data": {
      "text/plain": [
       "<AxesSubplot:xlabel='AGE', ylabel='Count'>"
      ]
     },
     "execution_count": 308,
     "metadata": {},
     "output_type": "execute_result"
    },
    {
     "data": {
      "image/png": "[encoded data removed]",
      "text/plain": [
       "<Figure size 640x480 with 1 Axes>"
      ]
     },
     "metadata": {},
     "output_type": "display_data"
    }
   ],
   "source": [
    "sns.histplot(df.AGE,bins=10)"
   ]
  },
  {
   "cell_type": "code",
   "execution_count": 309,
   "id": "08d430a1",
   "metadata": {},
   "outputs": [],
   "source": [
    "def func(x):\n",
    "    if 20>x:\n",
    "        return \"0-20\"\n",
    "    elif 40>x:\n",
    "        return \"20-40\"\n",
    "    elif 60>x:\n",
    "        return \"40-60\"\n",
    "    else:\n",
    "        return \">60\"    \n",
    "\n",
    "df.AGE=df.AGE.map(func)\n",
    "df = pd.get_dummies(df,columns=[\"AGE\"],drop_first=True)"
   ]
  },
  {
   "cell_type": "code",
   "execution_count": 310,
   "id": "3576bad5",
   "metadata": {},
   "outputs": [],
   "source": [
    "df.drop(df[df.TOBACCO.isna() == True].index,inplace=True)"
   ]
  },
  {
   "cell_type": "code",
   "execution_count": 311,
   "id": "f0e793fc",
   "metadata": {},
   "outputs": [],
   "source": [
    "df[\"TOBACCO\"] = pd.get_dummies(df[\"TOBACCO\"])[1.0]"
   ]
  },
  {
   "cell_type": "markdown",
   "id": "b45f72d7",
   "metadata": {},
   "source": [
    "Son olarak eksilen satırlardan dolayı indeksi resetleyelim:"
   ]
  },
  {
   "cell_type": "code",
   "execution_count": 312,
   "id": "275976ee",
   "metadata": {
    "scrolled": true
   },
   "outputs": [
    {
     "data": {
      "text/plain": [
       "USMER                   0\n",
       "MEDICAL_UNIT            0\n",
       "SEX                     0\n",
       "HOSP                    0\n",
       "DATE_DIED               0\n",
       "PNEUMONIA               0\n",
       "PREGNANT                0\n",
       "DIABETES                0\n",
       "COPD                    0\n",
       "ASTHMA                  0\n",
       "INMSUPR                 0\n",
       "HIPERTENSION            0\n",
       "OTHER_DISEASE           0\n",
       "CARDIOVASCULAR          0\n",
       "OBESITY                 0\n",
       "RENAL_CHRONIC           0\n",
       "TOBACCO                 0\n",
       "CLASIFFICATION_FINAL    0\n",
       "DIED                    0\n",
       "AGE_20-40               0\n",
       "AGE_40-60               0\n",
       "AGE_>60                 0\n",
       "dtype: int64"
      ]
     },
     "execution_count": 312,
     "metadata": {},
     "output_type": "execute_result"
    }
   ],
   "source": [
    "df.isna().sum()"
   ]
  },
  {
   "cell_type": "code",
   "execution_count": 313,
   "id": "9b13023d",
   "metadata": {},
   "outputs": [],
   "source": [
    "df.reset_index(inplace = True, drop = True)"
   ]
  },
  {
   "cell_type": "code",
   "execution_count": 314,
   "id": "bb52bd39",
   "metadata": {},
   "outputs": [],
   "source": [
    "# sns.heatmap(df.isna(),yticklabels=False,cbar=False)"
   ]
  },
  {
   "cell_type": "code",
   "execution_count": 315,
   "id": "058929b6",
   "metadata": {},
   "outputs": [],
   "source": [
    "df.drop(columns=\"DATE_DIED\",inplace=True)"
   ]
  },
  {
   "cell_type": "code",
   "execution_count": 316,
   "id": "c5d4128b",
   "metadata": {},
   "outputs": [],
   "source": [
    "# Shuffle rows of dataframe\n",
    "df=df.sample(frac = 1).reset_index(drop=True)\n",
    "# split target column\n",
    "X = df.drop(columns=\"DIED\")\n",
    "y = df.DIED"
   ]
  },
  {
   "cell_type": "code",
   "execution_count": 317,
   "id": "7b483aa2",
   "metadata": {},
   "outputs": [
    {
     "name": "stdout",
     "output_type": "stream",
     "text": [
      "(1022422, 20)\n",
      "(1022422,)\n"
     ]
    }
   ],
   "source": [
    "print(X.shape)\n",
    "print(y.shape)"
   ]
  },
  {
   "cell_type": "markdown",
   "id": "099d84a2",
   "metadata": {},
   "source": [
    "Veri çok dengesiz"
   ]
  },
  {
   "cell_type": "code",
   "execution_count": 318,
   "id": "f52e784c",
   "metadata": {
    "scrolled": true
   },
   "outputs": [
    {
     "data": {
      "text/plain": [
       "0    947708\n",
       "1     74714\n",
       "Name: DIED, dtype: int64"
      ]
     },
     "execution_count": 318,
     "metadata": {},
     "output_type": "execute_result"
    }
   ],
   "source": [
    "y.value_counts()"
   ]
  },
  {
   "cell_type": "code",
   "execution_count": 319,
   "id": "4c727abc",
   "metadata": {
    "scrolled": true
   },
   "outputs": [
    {
     "data": {
      "image/png": "[encoded data removed]",
      "text/plain": [
       "<Figure size 640x480 with 1 Axes>"
      ]
     },
     "metadata": {},
     "output_type": "display_data"
    }
   ],
   "source": [
    "keys = ['Live', 'Died']\n",
    "# define Seaborn color palette to use\n",
    "palette_color = sns.color_palette('dark')\n",
    "  \n",
    "# plotting data on chart\n",
    "plt.pie(y.value_counts(), labels=keys, colors=palette_color, autopct='%.0f%%');"
   ]
  },
  {
   "cell_type": "markdown",
   "id": "e9bd172d",
   "metadata": {},
   "source": [
    "Veri bu haliyle dengesiz. Herhangi bir model herkes yaşayacak dese yüzde 93 başarı(accuracy) verecek."
   ]
  },
  {
   "cell_type": "code",
   "execution_count": 320,
   "id": "daf61ee9",
   "metadata": {},
   "outputs": [],
   "source": [
    "X_train, X_test, Y_train, Y_test = train_test_split(X, y, test_size=0.20, random_state=42)"
   ]
  },
  {
   "cell_type": "markdown",
   "id": "2110fb66",
   "metadata": {},
   "source": [
    "**Logistic Regression**"
   ]
  },
  {
   "cell_type": "code",
   "execution_count": 321,
   "id": "f112ccbe",
   "metadata": {},
   "outputs": [
    {
     "name": "stdout",
     "output_type": "stream",
     "text": [
      "Training Accuracy: 0.937\n",
      "Testing Accuracy: 0.937\n"
     ]
    }
   ],
   "source": [
    "log1 = LogisticRegression(solver='liblinear')\n",
    "log1.fit(X_train,Y_train)\n",
    "print(\"Training Accuracy:\", round(log1.score(X_train, Y_train), 3))\n",
    "print(\"Testing Accuracy:\", round(log1.score(X_test, Y_test), 3))"
   ]
  },
  {
   "cell_type": "code",
   "execution_count": 322,
   "id": "7b3a4586",
   "metadata": {},
   "outputs": [
    {
     "name": "stdout",
     "output_type": "stream",
     "text": [
      "              precision    recall  f1-score   support\n",
      "\n",
      "           0       0.96      0.98      0.97    189549\n",
      "           1       0.59      0.44      0.50     14936\n",
      "\n",
      "    accuracy                           0.94    204485\n",
      "   macro avg       0.78      0.71      0.73    204485\n",
      "weighted avg       0.93      0.94      0.93    204485\n",
      "\n"
     ]
    }
   ],
   "source": [
    "pred = log1.predict(X_test)\n",
    "print(classification_report(Y_test,pred))"
   ]
  },
  {
   "cell_type": "markdown",
   "id": "b4c5e80e",
   "metadata": {},
   "source": [
    "Gerçekte ölenlerin yalnız yüzde 43 ünü tahmin edebiliyoruz."
   ]
  },
  {
   "cell_type": "markdown",
   "id": "c8815459",
   "metadata": {},
   "source": [
    "# Selecting Important Features"
   ]
  },
  {
   "cell_type": "raw",
   "id": "e455fe46",
   "metadata": {},
   "source": [
    "import statsmodels.formula.api as smf\n",
    "import statsmodels.api as sm\n",
    "test_model = smf.glm(formula=\"DIED ~ CLASIFFICATION_FINAL + USMER + MEDICAL_UNIT + SEX + PATIENT_TYPE + PNEUMONIA + PREGNANT + DIABETES + \\\n",
    "COPD +ASTHMA +INMSUPR+HIPERTENSION +OTHER_DISEASE+CARDIOVASCULAR+OBESITY + RENAL_CHRONIC +\\\n",
    "TOBACCO+CLASIFFICATION_FINAL\", data=df,family=sm.families.Binomial()).fit()\n",
    "#print model summary\n",
    "print(test_model.summary())\n",
    "#get parameters\n",
    "b=test_model.params"
   ]
  },
  {
   "cell_type": "code",
   "execution_count": 323,
   "id": "ba049941",
   "metadata": {
    "scrolled": true
   },
   "outputs": [
    {
     "data": {
      "text/plain": [
       "<AxesSubplot:ylabel='CLASIFFICATION_FINAL'>"
      ]
     },
     "execution_count": 323,
     "metadata": {},
     "output_type": "execute_result"
    },
    {
     "data": {
      "image/png": "[encoded data removed]",
      "text/plain": [
       "<Figure size 640x480 with 1 Axes>"
      ]
     },
     "metadata": {},
     "output_type": "display_data"
    }
   ],
   "source": [
    "# tüm datada covidtest sonuç dağılımı\n",
    "sns.barplot(y=df[\"CLASIFFICATION_FINAL\"].value_counts(),x=df[\"CLASIFFICATION_FINAL\"].value_counts().index)"
   ]
  },
  {
   "cell_type": "code",
   "execution_count": 324,
   "id": "61a6962a",
   "metadata": {},
   "outputs": [
    {
     "data": {
      "image/png": "[encoded data removed]",
      "text/plain": [
       "<Figure size 640x480 with 1 Axes>"
      ]
     },
     "metadata": {},
     "output_type": "display_data"
    }
   ],
   "source": [
    "# ölenlerin covid testi sonuçları\n",
    "died_covid_test = df[df.DIED == 1][\"CLASIFFICATION_FINAL\"]\n",
    "sns.barplot(y=died_covid_test.value_counts(),x=died_covid_test.value_counts().index);"
   ]
  },
  {
   "cell_type": "code",
   "execution_count": 325,
   "id": "a903f06d",
   "metadata": {},
   "outputs": [],
   "source": [
    "covid_pos = df[4>df[\"CLASIFFICATION_FINAL\"]]"
   ]
  },
  {
   "cell_type": "code",
   "execution_count": 326,
   "id": "f7a5a96f",
   "metadata": {},
   "outputs": [
    {
     "data": {
      "text/plain": [
       "0    334393\n",
       "1     53355\n",
       "Name: DIED, dtype: int64"
      ]
     },
     "execution_count": 326,
     "metadata": {},
     "output_type": "execute_result"
    }
   ],
   "source": [
    "covid_pos[\"DIED\"].value_counts()"
   ]
  },
  {
   "cell_type": "code",
   "execution_count": 327,
   "id": "9f1ee517",
   "metadata": {},
   "outputs": [
    {
     "data": {
      "text/plain": [
       "<AxesSubplot:ylabel='DIED'>"
      ]
     },
     "execution_count": 327,
     "metadata": {},
     "output_type": "execute_result"
    },
    {
     "data": {
      "image/png": "[encoded data removed]",
      "text/plain": [
       "<Figure size 640x480 with 1 Axes>"
      ]
     },
     "metadata": {},
     "output_type": "display_data"
    }
   ],
   "source": [
    "sns.barplot(y=covid_pos[\"DIED\"].value_counts(),x=covid_pos[\"DIED\"].value_counts().index)"
   ]
  },
  {
   "cell_type": "markdown",
   "id": "1b95da98",
   "metadata": {},
   "source": [
    "# Undersampling"
   ]
  },
  {
   "cell_type": "code",
   "execution_count": 328,
   "id": "2d4c5177",
   "metadata": {
    "scrolled": true
   },
   "outputs": [
    {
     "data": {
      "text/plain": [
       "0    947708\n",
       "1     74714\n",
       "Name: DIED, dtype: int64"
      ]
     },
     "execution_count": 328,
     "metadata": {},
     "output_type": "execute_result"
    }
   ],
   "source": [
    "y.value_counts()"
   ]
  },
  {
   "cell_type": "code",
   "execution_count": 329,
   "id": "9ebde315",
   "metadata": {},
   "outputs": [],
   "source": [
    "from imblearn.under_sampling import RandomUnderSampler\n",
    "X, y = RandomUnderSampler().fit_resample(X,y)"
   ]
  },
  {
   "cell_type": "code",
   "execution_count": 330,
   "id": "ae113707",
   "metadata": {},
   "outputs": [
    {
     "data": {
      "text/plain": [
       "0    74714\n",
       "1    74714\n",
       "Name: DIED, dtype: int64"
      ]
     },
     "execution_count": 330,
     "metadata": {},
     "output_type": "execute_result"
    }
   ],
   "source": [
    "y.value_counts()"
   ]
  },
  {
   "cell_type": "code",
   "execution_count": 331,
   "id": "7bfff85b",
   "metadata": {},
   "outputs": [
    {
     "name": "stdout",
     "output_type": "stream",
     "text": [
      "(149428, 20)\n",
      "(149428,)\n"
     ]
    }
   ],
   "source": [
    "print(X.shape)\n",
    "print(y.shape)"
   ]
  },
  {
   "cell_type": "markdown",
   "id": "2b71696b",
   "metadata": {},
   "source": [
    "Artık elimizde 149428 tane hastanın verisi var."
   ]
  },
  {
   "cell_type": "code",
   "execution_count": 332,
   "id": "ae32945c",
   "metadata": {},
   "outputs": [],
   "source": [
    "X_train, X_test, Y_train, Y_test = train_test_split(X, y, test_size=0.20, random_state=42)\n",
    "x_train, x_val, y_train, y_val= train_test_split(X_train, Y_train, test_size=0.20, random_state=42)"
   ]
  },
  {
   "cell_type": "code",
   "execution_count": 333,
   "id": "fdbe3d38",
   "metadata": {},
   "outputs": [
    {
     "data": {
      "text/plain": [
       "1    14962\n",
       "0    14924\n",
       "Name: DIED, dtype: int64"
      ]
     },
     "execution_count": 333,
     "metadata": {},
     "output_type": "execute_result"
    }
   ],
   "source": [
    "Y_test.value_counts()"
   ]
  },
  {
   "cell_type": "code",
   "execution_count": 334,
   "id": "0bf22802",
   "metadata": {
    "scrolled": true
   },
   "outputs": [
    {
     "data": {
      "text/plain": [
       "1    11963\n",
       "0    11946\n",
       "Name: DIED, dtype: int64"
      ]
     },
     "execution_count": 334,
     "metadata": {},
     "output_type": "execute_result"
    }
   ],
   "source": [
    "y_val.value_counts()"
   ]
  },
  {
   "cell_type": "markdown",
   "id": "04165eae",
   "metadata": {},
   "source": [
    "bağımlı değişken gayet dengeli"
   ]
  },
  {
   "cell_type": "code",
   "execution_count": 335,
   "id": "20826379",
   "metadata": {},
   "outputs": [
    {
     "name": "stdout",
     "output_type": "stream",
     "text": [
      "x_train shape (95633, 20)\n",
      "y_train shape (95633,)\n",
      "x_val shape (23909, 20)\n",
      "y_val shape: (23909,)\n"
     ]
    }
   ],
   "source": [
    "print(\"x_train shape\",x_train.shape)\n",
    "print(\"y_train shape\",y_train.shape)\n",
    "print(\"x_val shape\",x_val.shape)\n",
    "print(\"y_val shape:\",y_val.shape)"
   ]
  },
  {
   "cell_type": "markdown",
   "id": "c0c12864",
   "metadata": {},
   "source": [
    "x_train, y_train ile modeller eğitip, validasyon seti ile modelleri kıyaslayacağız"
   ]
  },
  {
   "cell_type": "markdown",
   "id": "bf6101b5",
   "metadata": {},
   "source": [
    "# 1. Logistic Regression"
   ]
  },
  {
   "cell_type": "code",
   "execution_count": 336,
   "id": "a2264e3e",
   "metadata": {},
   "outputs": [
    {
     "name": "stdout",
     "output_type": "stream",
     "text": [
      "Training Accuracy: 0.904\n",
      "Validation Accuracy: 0.909\n",
      "Precision for death: 0.898\n",
      "Recall for death: 0.924\n"
     ]
    }
   ],
   "source": [
    "log = LogisticRegression(solver='liblinear')\n",
    "log.fit(x_train,y_train)\n",
    "log_train_acc_score = round(log.score(x_train, y_train), 3)\n",
    "log_val_acc_score = round(log.score(x_val, y_val), 3)\n",
    "print(\"Training Accuracy:\", log_train_acc_score)\n",
    "print(\"Validation Accuracy:\", log_val_acc_score )\n",
    "pred_log = log.predict(x_val) \n",
    "precision_log = round(precision_score(y_val,pred_log),3)\n",
    "print(\"Precision for death:\",precision_log)\n",
    "recall_log = round(recall_score(y_val,pred_log),3)\n",
    "print(\"Recall for death:\",recall_log)           "
   ]
  },
  {
   "cell_type": "code",
   "execution_count": 337,
   "id": "00112c9b",
   "metadata": {},
   "outputs": [
    {
     "name": "stdout",
     "output_type": "stream",
     "text": [
      "              precision    recall  f1-score   support\n",
      "\n",
      "           0       0.92      0.89      0.91     11946\n",
      "           1       0.90      0.92      0.91     11963\n",
      "\n",
      "    accuracy                           0.91     23909\n",
      "   macro avg       0.91      0.91      0.91     23909\n",
      "weighted avg       0.91      0.91      0.91     23909\n",
      "\n"
     ]
    }
   ],
   "source": [
    "print(classification_report(y_val,pred_log))"
   ]
  },
  {
   "cell_type": "raw",
   "id": "e76d5a9a",
   "metadata": {},
   "source": [
    "scores = cross_val_score(log, X, y, cv=10, scoring='accuracy')\n",
    "accuracy = round(np.mean(scores),3)\n",
    "print(\"CV accuracy scores:\",scores)\n",
    "print(\"Mean accuracy:\",round(accuracy,3))"
   ]
  },
  {
   "cell_type": "raw",
   "id": "c6823d0e",
   "metadata": {},
   "source": [
    "scores = cross_val_score(log, X, y, cv=10, scoring='precision')\n",
    "precision = round(np.mean(scores),3)\n",
    "print(\"cv precision scores:\",scores)\n",
    "print(\"Mean precison:\",round(precision,3))"
   ]
  },
  {
   "cell_type": "code",
   "execution_count": 338,
   "id": "b9a825e8",
   "metadata": {},
   "outputs": [],
   "source": [
    "def make_confusion_matrix(model, threshold=0.5): # Ön tanımlı threshold değeri\n",
    "    pred = (model.predict_proba(x_val) >= threshold)[:, 1]\n",
    "    mat = confusion_matrix(y_val, pred)\n",
    "    sns.heatmap(mat, cmap=plt.cm.Blues, annot=True, square=True,fmt=\".0f\", \n",
    "                xticklabels=[\"LIVE\",\"DIED\"],yticklabels=[\"LIVE\",\"DIED\"])\n",
    "    plt.xlabel('Predicted')\n",
    "    plt.ylabel('Actual')\n",
    "    print(\"Precision for DEATH:\",round(precision_score(y_val,pred),3))\n",
    "    print(\"Recall for DEATH:\",round(recall_score(y_val,pred),3))\n",
    "    print(\"Accuracy:\",round((mat[0,0] +mat[1,1])/(mat[0,0]+mat[1,1]+mat[0,1]+mat[1,0]),4));"
   ]
  },
  {
   "cell_type": "code",
   "execution_count": 339,
   "id": "3cfc3857",
   "metadata": {},
   "outputs": [
    {
     "data": {
      "application/vnd.jupyter.widget-view+json": {
       "model_id": "7e2f61609cc64504a61793a3e322c112",
       "version_major": 2,
       "version_minor": 0
      },
      "text/plain": [
       "interactive(children=(FloatSlider(value=0.5, description='threshold', max=1.0, step=0.05), Output()), _dom_cla…"
      ]
     },
     "metadata": {},
     "output_type": "display_data"
    }
   ],
   "source": [
    "# Threshold değerini değiştirdiğimizde sonucun da interaktif bir şekilde değişmesi için bir widget\n",
    "from ipywidgets import interactive, FloatSlider\n",
    "interactive(lambda threshold: make_confusion_matrix(log, threshold), threshold=(0.0,1.0,0.05))"
   ]
  },
  {
   "cell_type": "code",
   "execution_count": 340,
   "id": "0abe0b3e",
   "metadata": {
    "scrolled": false
   },
   "outputs": [
    {
     "name": "stdout",
     "output_type": "stream",
     "text": [
      "Precision for DEATH: 0.903\n",
      "Recall for DEATH: 0.897\n",
      "Accuracy: 0.9002\n"
     ]
    },
    {
     "data": {
      "image/png": "[encoded data removed]",
      "text/plain": [
       "<Figure size 640x480 with 2 Axes>"
      ]
     },
     "metadata": {},
     "output_type": "display_data"
    }
   ],
   "source": [
    "make_confusion_matrix(log,threshold=0.6)"
   ]
  },
  {
   "cell_type": "markdown",
   "id": "86f68044",
   "metadata": {},
   "source": [
    "**AŞAĞIDA HATA VAR!!!!**"
   ]
  },
  {
   "cell_type": "code",
   "execution_count": 341,
   "id": "4d02f741",
   "metadata": {},
   "outputs": [
    {
     "data": {
      "image/png": "[encoded data removed]",
      "text/plain": [
       "<Figure size 512x384 with 1 Axes>"
      ]
     },
     "metadata": {},
     "output_type": "display_data"
    }
   ],
   "source": [
    "precision_curve, recall_curve, threshold_curve = precision_recall_curve(y_val,pred_log)\n",
    "\n",
    "plt.figure(dpi=80)\n",
    "plt.plot(threshold_curve, precision_curve[1:], label='Precision')\n",
    "plt.plot(threshold_curve, recall_curve[1:], label='Recall')\n",
    "plt.legend()\n",
    "plt.xlabel('Threshold (Above this Probability, Label as Died)');\n",
    "plt.title('Precision and Recall Curves');"
   ]
  },
  {
   "cell_type": "code",
   "execution_count": 342,
   "id": "d1ebba7d",
   "metadata": {},
   "outputs": [
    {
     "name": "stdout",
     "output_type": "stream",
     "text": [
      "AUC Score= 0.956\n"
     ]
    },
    {
     "data": {
      "image/png": "[encoded data removed]",
      "text/plain": [
       "<Figure size 640x480 with 1 Axes>"
      ]
     },
     "metadata": {},
     "output_type": "display_data"
    }
   ],
   "source": [
    "fpr, tpr, thresholds = roc_curve(y_val, log.predict_proba(x_val)[:,1])\n",
    "\n",
    "plt.plot(fpr, tpr, lw=2)\n",
    "plt.plot([0,1],[0,1],c='violet',ls='--')\n",
    "plt.xlim([-0.05,1.05])\n",
    "plt.ylim([-0.05,1.05])\n",
    "\n",
    "plt.xlabel('False Positive Rate(FPR)')\n",
    "plt.ylabel('True Positive Rate(TPR)')\n",
    "plt.title('ROC Curve for Fraud Problem');\n",
    "print(\"AUC Score=\", round(roc_auc_score(y_val, log.predict_proba(x_val)[:,1]),3))"
   ]
  },
  {
   "cell_type": "code",
   "execution_count": 343,
   "id": "c7e4933a",
   "metadata": {},
   "outputs": [
    {
     "name": "stdout",
     "output_type": "stream",
     "text": [
      "Log-Loss: 0.252\n"
     ]
    }
   ],
   "source": [
    "from sklearn.metrics import log_loss\n",
    "\n",
    "print(\"Log-Loss: {:2.3f}\".format(log_loss(y_val, log.predict_proba(x_val))))"
   ]
  },
  {
   "cell_type": "markdown",
   "id": "d33a634d",
   "metadata": {},
   "source": [
    "### Feature Importance"
   ]
  },
  {
   "cell_type": "code",
   "execution_count": 344,
   "id": "92c1338c",
   "metadata": {},
   "outputs": [
    {
     "data": {
      "text/plain": [
       "0    -0.068848\n",
       "1    -0.113310\n",
       "2     0.521236\n",
       "3     2.806899\n",
       "4     1.586678\n",
       "5    -0.137075\n",
       "6     0.387004\n",
       "7     0.239953\n",
       "8    -0.164130\n",
       "9     0.448217\n",
       "10    0.158365\n",
       "11    0.307845\n",
       "12   -0.036938\n",
       "13    0.262249\n",
       "14    0.559844\n",
       "15   -0.198441\n",
       "16   -0.766635\n",
       "17    0.164183\n",
       "18    1.225259\n",
       "19    2.307527\n",
       "dtype: float64"
      ]
     },
     "execution_count": 344,
     "metadata": {},
     "output_type": "execute_result"
    }
   ],
   "source": [
    "pd.Series(log.coef_[0])"
   ]
  },
  {
   "cell_type": "code",
   "execution_count": 345,
   "id": "8aff64eb",
   "metadata": {},
   "outputs": [
    {
     "name": "stdout",
     "output_type": "stream",
     "text": [
      "Feature: 0, Coef: -0.0688\n",
      "Feature: 1, Coef: -0.1133\n",
      "Feature: 2, Coef: 0.5212\n",
      "Feature: 3, Coef: 2.8069\n",
      "Feature: 4, Coef: 1.5867\n",
      "Feature: 5, Coef: -0.1371\n",
      "Feature: 6, Coef: 0.3870\n",
      "Feature: 7, Coef: 0.2400\n",
      "Feature: 8, Coef: -0.1641\n",
      "Feature: 9, Coef: 0.4482\n",
      "Feature: 10, Coef: 0.1584\n",
      "Feature: 11, Coef: 0.3078\n",
      "Feature: 12, Coef: -0.0369\n",
      "Feature: 13, Coef: 0.2622\n",
      "Feature: 14, Coef: 0.5598\n",
      "Feature: 15, Coef: -0.1984\n",
      "Feature: 16, Coef: -0.7666\n",
      "Feature: 17, Coef: 0.1642\n",
      "Feature: 18, Coef: 1.2253\n",
      "Feature: 19, Coef: 2.3075\n"
     ]
    },
    {
     "data": {
      "text/plain": [
       "<BarContainer object of 20 artists>"
      ]
     },
     "execution_count": 345,
     "metadata": {},
     "output_type": "execute_result"
    },
    {
     "data": {
      "image/png": "[encoded data removed]",
      "text/plain": [
       "<Figure size 640x480 with 1 Axes>"
      ]
     },
     "metadata": {},
     "output_type": "display_data"
    }
   ],
   "source": [
    "# get importance\n",
    "importance = log.coef_[0]\n",
    "# summarize feature importance\n",
    "for i,v in enumerate(importance):\n",
    "    print('Feature: %0d, Coef: %.4f' % (i,v))\n",
    "# plot feature importance\n",
    "plt.bar([x for x in range(len(importance))], importance)"
   ]
  },
  {
   "cell_type": "markdown",
   "id": "79d2f257",
   "metadata": {},
   "source": [
    "**Statsmodel**"
   ]
  },
  {
   "cell_type": "code",
   "execution_count": 346,
   "id": "b2325292",
   "metadata": {
    "scrolled": true
   },
   "outputs": [
    {
     "data": {
      "text/plain": [
       "0                    USMER\n",
       "1             MEDICAL_UNIT\n",
       "2                      SEX\n",
       "3                     HOSP\n",
       "4                PNEUMONIA\n",
       "5                 PREGNANT\n",
       "6                 DIABETES\n",
       "7                     COPD\n",
       "8                   ASTHMA\n",
       "9                  INMSUPR\n",
       "10            HIPERTENSION\n",
       "11           OTHER_DISEASE\n",
       "12          CARDIOVASCULAR\n",
       "13                 OBESITY\n",
       "14           RENAL_CHRONIC\n",
       "15                 TOBACCO\n",
       "16    CLASIFFICATION_FINAL\n",
       "17               AGE_20-40\n",
       "18               AGE_40-60\n",
       "19                 AGE_>60\n",
       "dtype: object"
      ]
     },
     "execution_count": 346,
     "metadata": {},
     "output_type": "execute_result"
    }
   ],
   "source": [
    "pd.Series(X.columns)"
   ]
  },
  {
   "cell_type": "code",
   "execution_count": 347,
   "id": "290ce963",
   "metadata": {},
   "outputs": [
    {
     "name": "stdout",
     "output_type": "stream",
     "text": [
      "Optimization terminated successfully.\n",
      "         Current function value: 0.261924\n",
      "         Iterations 7\n",
      "                           Logit Regression Results                           \n",
      "==============================================================================\n",
      "Dep. Variable:                   DIED   No. Observations:                95633\n",
      "Model:                          Logit   Df Residuals:                    95613\n",
      "Method:                           MLE   Df Model:                           19\n",
      "Date:                Mon, 02 Jan 2023   Pseudo R-squ.:                  0.6221\n",
      "Time:                        15:49:39   Log-Likelihood:                -25049.\n",
      "converged:                       True   LL-Null:                       -66288.\n",
      "Covariance Type:            nonrobust   LLR p-value:                     0.000\n",
      "========================================================================================\n",
      "                           coef    std err          z      P>|z|      [0.025      0.975]\n",
      "----------------------------------------------------------------------------------------\n",
      "USMER                   -0.0941      0.023     -4.150      0.000      -0.139      -0.050\n",
      "MEDICAL_UNIT            -0.1158      0.003    -37.187      0.000      -0.122      -0.110\n",
      "SEX                      0.5114      0.024     21.204      0.000       0.464       0.559\n",
      "HOSP                     2.7948      0.026    109.385      0.000       2.745       2.845\n",
      "PNEUMONIA                1.5818      0.026     59.832      0.000       1.530       1.634\n",
      "PREGNANT                -0.1546      0.186     -0.829      0.407      -0.520       0.211\n",
      "DIABETES                 0.3869      0.030     13.077      0.000       0.329       0.445\n",
      "COPD                     0.2422      0.070      3.471      0.001       0.105       0.379\n",
      "ASTHMA                  -0.1727      0.076     -2.278      0.023      -0.321      -0.024\n",
      "INMSUPR                  0.4471      0.073      6.106      0.000       0.304       0.591\n",
      "HIPERTENSION             0.1557      0.029      5.338      0.000       0.099       0.213\n",
      "OTHER_DISEASE            0.2978      0.056      5.323      0.000       0.188       0.407\n",
      "CARDIOVASCULAR          -0.0377      0.063     -0.599      0.549      -0.161       0.086\n",
      "OBESITY                  0.2582      0.030      8.578      0.000       0.199       0.317\n",
      "RENAL_CHRONIC            0.5619      0.060      9.327      0.000       0.444       0.680\n",
      "TOBACCO                 -0.1933      0.044     -4.389      0.000      -0.280      -0.107\n",
      "CLASIFFICATION_FINAL    -0.8125      0.015    -52.862      0.000      -0.843      -0.782\n",
      "AGE_20-40                0.0537      0.057      0.945      0.345      -0.058       0.165\n",
      "AGE_40-60                1.1128      0.053     21.014      0.000       1.009       1.217\n",
      "AGE_>60                  2.1974      0.055     39.776      0.000       2.089       2.306\n",
      "========================================================================================\n"
     ]
    }
   ],
   "source": [
    "import statsmodels.api as sm\n",
    "logit_model=sm.Logit(y_train,x_train)\n",
    "result=logit_model.fit()\n",
    "print(result.summary())"
   ]
  },
  {
   "cell_type": "markdown",
   "id": "10e398df",
   "metadata": {},
   "source": [
    "We may drop the columns : COPD, CARDIOVASCULAR by considering p values        "
   ]
  },
  {
   "cell_type": "code",
   "execution_count": 348,
   "id": "e681989d",
   "metadata": {},
   "outputs": [],
   "source": [
    "X=X.drop([\"COPD\",\"CARDIOVASCULAR\",\"ASTHMA\",\"PREGNANT\",\"AGE_20-40\"], axis=1)"
   ]
  },
  {
   "cell_type": "code",
   "execution_count": 349,
   "id": "00d705d2",
   "metadata": {},
   "outputs": [],
   "source": [
    "X_train, X_test, Y_train, Y_test = train_test_split(X, y, test_size=0.20, random_state=42)\n",
    "x_train, x_val, y_train, y_val= train_test_split(X_train, Y_train, test_size=0.20, random_state=42)"
   ]
  },
  {
   "cell_type": "code",
   "execution_count": 350,
   "id": "4c245d38",
   "metadata": {},
   "outputs": [
    {
     "name": "stdout",
     "output_type": "stream",
     "text": [
      "Optimization terminated successfully.\n",
      "         Current function value: 0.262021\n",
      "         Iterations 7\n",
      "                           Logit Regression Results                           \n",
      "==============================================================================\n",
      "Dep. Variable:                   DIED   No. Observations:                95633\n",
      "Model:                          Logit   Df Residuals:                    95618\n",
      "Method:                           MLE   Df Model:                           14\n",
      "Date:                Mon, 02 Jan 2023   Pseudo R-squ.:                  0.6220\n",
      "Time:                        15:50:26   Log-Likelihood:                -25058.\n",
      "converged:                       True   LL-Null:                       -66288.\n",
      "Covariance Type:            nonrobust   LLR p-value:                     0.000\n",
      "========================================================================================\n",
      "                           coef    std err          z      P>|z|      [0.025      0.975]\n",
      "----------------------------------------------------------------------------------------\n",
      "USMER                   -0.0903      0.022     -4.119      0.000      -0.133      -0.047\n",
      "MEDICAL_UNIT            -0.1157      0.003    -37.456      0.000      -0.122      -0.110\n",
      "SEX                      0.5151      0.024     21.584      0.000       0.468       0.562\n",
      "HOSP                     2.7957      0.025    109.650      0.000       2.746       2.846\n",
      "PNEUMONIA                1.5834      0.026     59.984      0.000       1.532       1.635\n",
      "DIABETES                 0.3888      0.030     13.160      0.000       0.331       0.447\n",
      "INMSUPR                  0.4484      0.073      6.141      0.000       0.305       0.592\n",
      "HIPERTENSION             0.1571      0.029      5.419      0.000       0.100       0.214\n",
      "OTHER_DISEASE            0.2921      0.056      5.242      0.000       0.183       0.401\n",
      "OBESITY                  0.2595      0.030      8.698      0.000       0.201       0.318\n",
      "RENAL_CHRONIC            0.5651      0.060      9.397      0.000       0.447       0.683\n",
      "TOBACCO                 -0.1797      0.044     -4.103      0.000      -0.265      -0.094\n",
      "CLASIFFICATION_FINAL    -0.8058      0.013    -62.185      0.000      -0.831      -0.780\n",
      "AGE_40-60                1.0775      0.030     35.777      0.000       1.018       1.136\n",
      "AGE_>60                  2.1734      0.033     64.935      0.000       2.108       2.239\n",
      "========================================================================================\n"
     ]
    }
   ],
   "source": [
    "import statsmodels.api as sm\n",
    "logit_model=sm.Logit(y_train,x_train)\n",
    "result=logit_model.fit()\n",
    "print(result.summary())"
   ]
  },
  {
   "cell_type": "code",
   "execution_count": 351,
   "id": "1508279f",
   "metadata": {},
   "outputs": [
    {
     "name": "stdout",
     "output_type": "stream",
     "text": [
      "Training Accuracy: 0.905\n",
      "Validation Accuracy: 0.91\n",
      "Precision for death: 0.898\n",
      "Recall for death: 0.925\n"
     ]
    }
   ],
   "source": [
    "log = LogisticRegression(solver='liblinear')\n",
    "log.fit(x_train,y_train)\n",
    "log_train_acc_score = round(log.score(x_train, y_train), 3)\n",
    "log_val_acc_score = round(log.score(x_val, y_val), 3)\n",
    "print(\"Training Accuracy:\", log_train_acc_score)\n",
    "print(\"Validation Accuracy:\", log_val_acc_score )\n",
    "pred_log = log.predict(x_val) \n",
    "precision_log = round(precision_score(y_val,pred_log),3)\n",
    "print(\"Precision for death:\",precision_log)\n",
    "recall_log = round(recall_score(y_val,pred_log),3)\n",
    "print(\"Recall for death:\",recall_log)           "
   ]
  },
  {
   "cell_type": "markdown",
   "id": "c2f91d35",
   "metadata": {},
   "source": [
    "# Support Vector Classifier (SVC)"
   ]
  },
  {
   "cell_type": "raw",
   "id": "86b9605a",
   "metadata": {},
   "source": [
    "# Support Vector Classifier (SVC) algoritmasıyla modelimizi oluşturalım\n",
    "svc = SVC().fit(x_train, y_train)"
   ]
  },
  {
   "cell_type": "markdown",
   "id": "bbbac40d",
   "metadata": {},
   "source": [
    "modeli kaydedelim:"
   ]
  },
  {
   "cell_type": "raw",
   "id": "cb910ff1",
   "metadata": {},
   "source": [
    "from joblib import dump, load\n",
    "\n",
    "# Modeli pickle kullanarak kaydetme\n",
    "dump(svc, 'svc_model.pkl')"
   ]
  },
  {
   "cell_type": "code",
   "execution_count": 354,
   "id": "5643b83a",
   "metadata": {},
   "outputs": [],
   "source": [
    "from joblib import dump, load\n",
    "svc = load('svc_model.pkl')"
   ]
  },
  {
   "cell_type": "raw",
   "id": "39b33d45",
   "metadata": {},
   "source": [
    "pred_svc = svc.predict(x_val)\n",
    "dump(pred_svc, 'pred_svc.pkl')"
   ]
  },
  {
   "cell_type": "code",
   "execution_count": 356,
   "id": "0716814e",
   "metadata": {},
   "outputs": [],
   "source": [
    "pred_svc = load('pred_svc.pkl')"
   ]
  },
  {
   "cell_type": "raw",
   "id": "ae12436b",
   "metadata": {},
   "source": [
    "svc_train_acc_score = round(svc.score(x_train, y_train), 3)\n",
    "svc_val_acc_score = round(svc.score(x_val, y_val), 3)\n",
    "print(f'Accuracy_val: {svc_val_acc_score}')\n",
    "svc_precision = round(precision_score(y_val,pred_svc),3)\n",
    "print(f'Precision: {svc_precision}')\n",
    "svc_recall = round(recall_score(y_val,pred_svc),3)\n",
    "print(f\"Recall: {svc_recall}\")"
   ]
  },
  {
   "cell_type": "raw",
   "id": "2293d37e",
   "metadata": {},
   "source": [
    "dump(svc_train_acc_score, 'svc_train_acc_score.pkl')\n",
    "dump(svc_val_acc_score, 'svc_val_acc_score.pkl')\n",
    "dump(svc_precision, 'svc_precision.pkl')\n",
    "dump(svc_recall,'svc_recall.pkl')"
   ]
  },
  {
   "cell_type": "code",
   "execution_count": 359,
   "id": "298351bb",
   "metadata": {},
   "outputs": [],
   "source": [
    "svc_train_acc_score = load('svc_train_acc_score.pkl')\n",
    "svc_val_acc_score = load('svc_val_acc_score.pkl')\n",
    "svc_precision = load('svc_precision.pkl')\n",
    "svc_recall = load('svc_recall.pkl')"
   ]
  },
  {
   "cell_type": "code",
   "execution_count": 360,
   "id": "a24618c0",
   "metadata": {
    "scrolled": true
   },
   "outputs": [
    {
     "name": "stdout",
     "output_type": "stream",
     "text": [
      "              precision    recall  f1-score   support\n",
      "\n",
      "           0       0.92      0.87      0.90     11946\n",
      "           1       0.88      0.93      0.90     11963\n",
      "\n",
      "    accuracy                           0.90     23909\n",
      "   macro avg       0.90      0.90      0.90     23909\n",
      "weighted avg       0.90      0.90      0.90     23909\n",
      "\n"
     ]
    }
   ],
   "source": [
    "print(classification_report(y_val,pred_svc))"
   ]
  },
  {
   "cell_type": "markdown",
   "id": "1182212a",
   "metadata": {},
   "source": [
    "# XGBClassifier"
   ]
  },
  {
   "cell_type": "code",
   "execution_count": 361,
   "id": "70493357",
   "metadata": {},
   "outputs": [],
   "source": [
    "xgb = XGBClassifier().fit(x_train, y_train)"
   ]
  },
  {
   "cell_type": "code",
   "execution_count": 362,
   "id": "ca9373bf",
   "metadata": {},
   "outputs": [],
   "source": [
    "pred_xgb = xgb.predict(x_val)"
   ]
  },
  {
   "cell_type": "code",
   "execution_count": 363,
   "id": "37dab138",
   "metadata": {},
   "outputs": [
    {
     "name": "stdout",
     "output_type": "stream",
     "text": [
      "Accuracy_train: 0.917\n",
      "Accuracy_val: 0.919\n",
      "Precision: 0.89\n",
      "Recall: 0.956\n"
     ]
    }
   ],
   "source": [
    "xgb_train_acc_score = round(xgb.score(x_train, y_train), 3)\n",
    "xgb_val_acc_score = round(xgb.score(x_val, y_val), 3)\n",
    "print(f\"Accuracy_train:\", xgb_train_acc_score)\n",
    "print(f'Accuracy_val: {xgb_val_acc_score}')\n",
    "xgb_precision = round(precision_score(y_val,pred_xgb),3)\n",
    "print(f'Precision: {xgb_precision}')\n",
    "xgb_recall = round(recall_score(y_val,pred_xgb),3)\n",
    "print(f\"Recall: {xgb_recall}\")"
   ]
  },
  {
   "cell_type": "code",
   "execution_count": 364,
   "id": "54c9a7e7",
   "metadata": {},
   "outputs": [
    {
     "name": "stdout",
     "output_type": "stream",
     "text": [
      "precision for death: 0.8897797151085857\n",
      "recall for death: 0.9555295494441194\n"
     ]
    },
    {
     "data": {
      "image/png": "[encoded data removed]",
      "text/plain": [
       "<Figure size 640x480 with 2 Axes>"
      ]
     },
     "metadata": {},
     "output_type": "display_data"
    }
   ],
   "source": [
    "xgb_confusion = confusion_matrix(y_val, pred_xgb)\n",
    "\n",
    "plt.title('XGBoost Confusion Matrix')\n",
    "sns.heatmap(xgb_confusion, cmap=plt.cm.Blues, annot=True, square=True,fmt=\".0f\",\n",
    "            xticklabels=[\"LIVE\",\"DIED\"],yticklabels=[\"LIVE\",\"DIED\"])\n",
    "plt.xlabel('Predicted')\n",
    "plt.ylabel('Actual');\n",
    "print(\"precision for death:\",precision_score(y_val,pred_xgb))\n",
    "print(\"recall for death:\",recall_score(y_val,pred_xgb))"
   ]
  },
  {
   "cell_type": "code",
   "execution_count": 365,
   "id": "1665780a",
   "metadata": {},
   "outputs": [
    {
     "name": "stdout",
     "output_type": "stream",
     "text": [
      "              precision    recall  f1-score   support\n",
      "\n",
      "           0       0.95      0.88      0.92     11946\n",
      "           1       0.89      0.96      0.92     11963\n",
      "\n",
      "    accuracy                           0.92     23909\n",
      "   macro avg       0.92      0.92      0.92     23909\n",
      "weighted avg       0.92      0.92      0.92     23909\n",
      "\n"
     ]
    }
   ],
   "source": [
    "from sklearn.metrics import classification_report \n",
    "print(classification_report(y_val,pred_xgb))"
   ]
  },
  {
   "cell_type": "markdown",
   "id": "9a693410",
   "metadata": {},
   "source": [
    "# Random Forest"
   ]
  },
  {
   "cell_type": "code",
   "execution_count": 366,
   "id": "09cfc389",
   "metadata": {},
   "outputs": [],
   "source": [
    "random_forest = RandomForestClassifier()\n",
    "random_forest.fit(x_train, y_train)\n",
    "\n",
    "pred_forest = random_forest.predict(x_val)\n",
    "\n",
    "acc_random_forest_train = round(random_forest.score(x_train, y_train) , 3)\n",
    "acc_random_forest_val = round(random_forest.score(x_val, y_val) , 3)"
   ]
  },
  {
   "cell_type": "code",
   "execution_count": 367,
   "id": "96d07bb8",
   "metadata": {},
   "outputs": [
    {
     "name": "stdout",
     "output_type": "stream",
     "text": [
      "0.926\n",
      "0.913\n",
      "precision: 0.887\n",
      "recall: 0.945\n"
     ]
    }
   ],
   "source": [
    "print(acc_random_forest_train)\n",
    "print(acc_random_forest_val)\n",
    "precision_forest = round(precision_score(y_val,pred_forest),3)\n",
    "print(\"precision:\",precision_forest)\n",
    "recall_forest = round(recall_score(y_val,pred_forest),3)\n",
    "print(\"recall:\", recall_forest)"
   ]
  },
  {
   "cell_type": "code",
   "execution_count": 368,
   "id": "dcc42a5e",
   "metadata": {
    "scrolled": true
   },
   "outputs": [
    {
     "name": "stdout",
     "output_type": "stream",
     "text": [
      "              precision    recall  f1-score   support\n",
      "\n",
      "           0       0.94      0.88      0.91     11946\n",
      "           1       0.89      0.95      0.92     11963\n",
      "\n",
      "    accuracy                           0.91     23909\n",
      "   macro avg       0.91      0.91      0.91     23909\n",
      "weighted avg       0.91      0.91      0.91     23909\n",
      "\n"
     ]
    }
   ],
   "source": [
    "print(classification_report(y_val,pred_forest))"
   ]
  },
  {
   "cell_type": "markdown",
   "id": "70b3014b",
   "metadata": {},
   "source": [
    "# GaussianNB"
   ]
  },
  {
   "cell_type": "code",
   "execution_count": 369,
   "id": "18e9444f",
   "metadata": {},
   "outputs": [],
   "source": [
    "gaussian = GaussianNB()\n",
    "gaussian.fit(x_train, y_train)  \n",
    "\n",
    "pred_gaussian = gaussian.predict(x_val)  \n",
    "\n",
    "acc_gaussian_train = round(gaussian.score(x_train, y_train) , 3)\n",
    "acc_gaussian_val = round(gaussian.score(x_val, y_val) , 3)"
   ]
  },
  {
   "cell_type": "code",
   "execution_count": 370,
   "id": "2397c480",
   "metadata": {},
   "outputs": [
    {
     "name": "stdout",
     "output_type": "stream",
     "text": [
      "0.88\n",
      "0.885\n",
      "precision: 0.873\n",
      "recall: 0.9\n"
     ]
    }
   ],
   "source": [
    "print(acc_gaussian_train)\n",
    "print(acc_gaussian_val)\n",
    "precision_gaussian = round(precision_score(y_val,pred_gaussian),3)\n",
    "print(\"precision:\",precision_gaussian)\n",
    "recall_gaussian = round(recall_score(y_val,pred_gaussian),3)\n",
    "print(\"recall:\", recall_gaussian)"
   ]
  },
  {
   "cell_type": "code",
   "execution_count": 371,
   "id": "a54e063a",
   "metadata": {},
   "outputs": [
    {
     "name": "stdout",
     "output_type": "stream",
     "text": [
      "              precision    recall  f1-score   support\n",
      "\n",
      "           0       0.90      0.87      0.88     11946\n",
      "           1       0.87      0.90      0.89     11963\n",
      "\n",
      "    accuracy                           0.88     23909\n",
      "   macro avg       0.89      0.88      0.88     23909\n",
      "weighted avg       0.89      0.88      0.88     23909\n",
      "\n"
     ]
    }
   ],
   "source": [
    "print(classification_report(y_val,pred_gaussian))"
   ]
  },
  {
   "cell_type": "markdown",
   "id": "9df2167b",
   "metadata": {},
   "source": [
    "# Perceptron"
   ]
  },
  {
   "cell_type": "code",
   "execution_count": 372,
   "id": "2d3b61a9",
   "metadata": {},
   "outputs": [],
   "source": [
    "perceptron = Perceptron()\n",
    "perceptron.fit(x_train, y_train)\n",
    "\n",
    "pred_perceptron = perceptron.predict(x_val)\n",
    "\n",
    "acc_perceptron_train = round(perceptron.score(x_train, y_train) , 3)\n",
    "acc_perceptron_val = round(perceptron.score(x_val, y_val) , 3)"
   ]
  },
  {
   "cell_type": "code",
   "execution_count": 373,
   "id": "f64132cf",
   "metadata": {},
   "outputs": [
    {
     "name": "stdout",
     "output_type": "stream",
     "text": [
      "0.736\n",
      "0.74\n",
      "precision: 0.926\n",
      "recall: 0.522\n"
     ]
    }
   ],
   "source": [
    "print(acc_perceptron_train)\n",
    "print(acc_perceptron_val)\n",
    "precision_perceptron = round(precision_score(y_val,pred_perceptron),3)\n",
    "print(\"precision:\",precision_perceptron)\n",
    "recall_perceptron = round(recall_score(y_val,pred_perceptron),3)\n",
    "print(\"recall:\", recall_perceptron)"
   ]
  },
  {
   "cell_type": "code",
   "execution_count": 374,
   "id": "0067786c",
   "metadata": {},
   "outputs": [
    {
     "name": "stdout",
     "output_type": "stream",
     "text": [
      "              precision    recall  f1-score   support\n",
      "\n",
      "           0       0.67      0.96      0.79     11946\n",
      "           1       0.93      0.52      0.67     11963\n",
      "\n",
      "    accuracy                           0.74     23909\n",
      "   macro avg       0.80      0.74      0.73     23909\n",
      "weighted avg       0.80      0.74      0.73     23909\n",
      "\n"
     ]
    }
   ],
   "source": [
    "print(classification_report(y_val,pred_perceptron))"
   ]
  },
  {
   "cell_type": "markdown",
   "id": "c04c0db6",
   "metadata": {},
   "source": [
    "# Decision Tree"
   ]
  },
  {
   "cell_type": "code",
   "execution_count": 375,
   "id": "b29f720f",
   "metadata": {},
   "outputs": [],
   "source": [
    "decision_tree = DecisionTreeClassifier() \n",
    "decision_tree.fit(x_train, y_train) \n",
    "\n",
    "pred_tree = decision_tree.predict(x_val) \n",
    "\n",
    "acc_decision_tree_train = round(decision_tree.score(x_train, y_train) , 3)\n",
    "acc_decision_tree_val = round(decision_tree.score(x_val, y_val) , 3)"
   ]
  },
  {
   "cell_type": "code",
   "execution_count": 376,
   "id": "53ef4490",
   "metadata": {},
   "outputs": [
    {
     "name": "stdout",
     "output_type": "stream",
     "text": [
      "0.926\n",
      "0.906\n",
      "precision: 0.889\n",
      "recall: 0.929\n"
     ]
    }
   ],
   "source": [
    "print(acc_decision_tree_train)\n",
    "print(acc_decision_tree_val)\n",
    "precision_tree = round(precision_score(y_val,pred_tree),3)\n",
    "print(\"precision:\",precision_tree)\n",
    "recall_tree = round(recall_score(y_val,pred_tree),3)\n",
    "print(\"recall:\", recall_tree)"
   ]
  },
  {
   "cell_type": "code",
   "execution_count": 377,
   "id": "8f69ee9d",
   "metadata": {},
   "outputs": [
    {
     "name": "stdout",
     "output_type": "stream",
     "text": [
      "              precision    recall  f1-score   support\n",
      "\n",
      "           0       0.93      0.88      0.90     11946\n",
      "           1       0.89      0.93      0.91     11963\n",
      "\n",
      "    accuracy                           0.91     23909\n",
      "   macro avg       0.91      0.91      0.91     23909\n",
      "weighted avg       0.91      0.91      0.91     23909\n",
      "\n"
     ]
    }
   ],
   "source": [
    "print(classification_report(y_val,pred_tree))"
   ]
  },
  {
   "cell_type": "markdown",
   "id": "6275afc1",
   "metadata": {},
   "source": [
    "# KNN (hata verdi)"
   ]
  },
  {
   "cell_type": "raw",
   "id": "3a608eea",
   "metadata": {
    "scrolled": true
   },
   "source": [
    "# KNN (hata verdi)\n",
    "knn = KNeighborsClassifier(n_neighbors=5) # En yakın 5 komşuya bak\n",
    "knn.fit(x_train, y_train) \n",
    "pred_knn = knn.predict(x_val) \n",
    "print(round(metrics.accuracy_score(y_val, pred_knn),2))"
   ]
  },
  {
   "cell_type": "markdown",
   "id": "56940ce6",
   "metadata": {},
   "source": [
    "# TABLE OF VALIDATION SCORES"
   ]
  },
  {
   "cell_type": "code",
   "execution_count": 378,
   "id": "ea406b2b",
   "metadata": {
    "scrolled": true
   },
   "outputs": [
    {
     "name": "stdout",
     "output_type": "stream",
     "text": [
      "(95633, 15)\n",
      "(23909, 15)\n"
     ]
    }
   ],
   "source": [
    "print(x_train.shape)\n",
    "print(x_val.shape)"
   ]
  },
  {
   "cell_type": "code",
   "execution_count": 379,
   "id": "d95f6d5f",
   "metadata": {
    "scrolled": true
   },
   "outputs": [
    {
     "data": {
      "text/plain": [
       "Index(['USMER', 'MEDICAL_UNIT', 'SEX', 'HOSP', 'PNEUMONIA', 'DIABETES',\n",
       "       'INMSUPR', 'HIPERTENSION', 'OTHER_DISEASE', 'OBESITY', 'RENAL_CHRONIC',\n",
       "       'TOBACCO', 'CLASIFFICATION_FINAL', 'AGE_40-60', 'AGE_>60'],\n",
       "      dtype='object')"
      ]
     },
     "execution_count": 379,
     "metadata": {},
     "output_type": "execute_result"
    }
   ],
   "source": [
    "x_train.columns"
   ]
  },
  {
   "cell_type": "markdown",
   "id": "9832f39f",
   "metadata": {},
   "source": [
    "**95.633** tane hastanın 18 tane özelliklerine bakarak birtakım modeller eğittik. **23.909** tane hasta verisi (validation set) ile başarı skorlarını listeledik."
   ]
  },
  {
   "cell_type": "code",
   "execution_count": 380,
   "id": "7272474c",
   "metadata": {},
   "outputs": [
    {
     "data": {
      "text/html": [
       "<div>\n",
       "<style scoped>\n",
       "    .dataframe tbody tr th:only-of-type {\n",
       "        vertical-align: middle;\n",
       "    }\n",
       "\n",
       "    .dataframe tbody tr th {\n",
       "        vertical-align: top;\n",
       "    }\n",
       "\n",
       "    .dataframe thead th {\n",
       "        text-align: right;\n",
       "    }\n",
       "</style>\n",
       "<table border=\"1\" class=\"dataframe\">\n",
       "  <thead>\n",
       "    <tr style=\"text-align: right;\">\n",
       "      <th></th>\n",
       "      <th>Train_acc_score</th>\n",
       "      <th>Validation_acc_score</th>\n",
       "      <th>Precision_death</th>\n",
       "      <th>Recall_death</th>\n",
       "    </tr>\n",
       "    <tr>\n",
       "      <th>MODEL NAME</th>\n",
       "      <th></th>\n",
       "      <th></th>\n",
       "      <th></th>\n",
       "      <th></th>\n",
       "    </tr>\n",
       "  </thead>\n",
       "  <tbody>\n",
       "    <tr>\n",
       "      <th>XGBoost</th>\n",
       "      <td>0.92</td>\n",
       "      <td>0.92</td>\n",
       "      <td>0.89</td>\n",
       "      <td>0.96</td>\n",
       "    </tr>\n",
       "    <tr>\n",
       "      <th>RandomForest</th>\n",
       "      <td>0.93</td>\n",
       "      <td>0.91</td>\n",
       "      <td>0.89</td>\n",
       "      <td>0.94</td>\n",
       "    </tr>\n",
       "    <tr>\n",
       "      <th>Logistic Regression</th>\n",
       "      <td>0.91</td>\n",
       "      <td>0.91</td>\n",
       "      <td>0.90</td>\n",
       "      <td>0.93</td>\n",
       "    </tr>\n",
       "    <tr>\n",
       "      <th>Support Vector Machines</th>\n",
       "      <td>0.90</td>\n",
       "      <td>0.90</td>\n",
       "      <td>0.88</td>\n",
       "      <td>0.93</td>\n",
       "    </tr>\n",
       "    <tr>\n",
       "      <th>GaussianNB</th>\n",
       "      <td>0.88</td>\n",
       "      <td>0.89</td>\n",
       "      <td>0.87</td>\n",
       "      <td>0.90</td>\n",
       "    </tr>\n",
       "    <tr>\n",
       "      <th>Perceptron</th>\n",
       "      <td>0.74</td>\n",
       "      <td>0.74</td>\n",
       "      <td>0.93</td>\n",
       "      <td>0.52</td>\n",
       "    </tr>\n",
       "  </tbody>\n",
       "</table>\n",
       "</div>"
      ],
      "text/plain": [
       "                         Train_acc_score  Validation_acc_score  \\\n",
       "MODEL NAME                                                       \n",
       "XGBoost                             0.92                  0.92   \n",
       "RandomForest                        0.93                  0.91   \n",
       "Logistic Regression                 0.91                  0.91   \n",
       "Support Vector Machines             0.90                  0.90   \n",
       "GaussianNB                          0.88                  0.89   \n",
       "Perceptron                          0.74                  0.74   \n",
       "\n",
       "                         Precision_death  Recall_death  \n",
       "MODEL NAME                                              \n",
       "XGBoost                             0.89          0.96  \n",
       "RandomForest                        0.89          0.94  \n",
       "Logistic Regression                 0.90          0.93  \n",
       "Support Vector Machines             0.88          0.93  \n",
       "GaussianNB                          0.87          0.90  \n",
       "Perceptron                          0.93          0.52  "
      ]
     },
     "execution_count": 380,
     "metadata": {},
     "output_type": "execute_result"
    }
   ],
   "source": [
    "results = pd.DataFrame({\n",
    "    'MODEL NAME': ['Support Vector Machines','Logistic Regression',\"XGBoost\",\"RandomForest\",\n",
    "              \"GaussianNB\",\"Perceptron\"],\n",
    "    \"Train_acc_score\": [svc_train_acc_score,log_train_acc_score, xgb_train_acc_score,\n",
    "                        acc_random_forest_train,acc_gaussian_train,acc_perceptron_train],\n",
    "    \"Validation_acc_score\": [svc_val_acc_score, log_val_acc_score, xgb_val_acc_score,\n",
    "                             acc_random_forest_val,acc_gaussian_val,acc_perceptron_val],\n",
    "    \"Precision_death\": [svc_precision,precision_log,xgb_precision, precision_forest,\n",
    "                       precision_gaussian,precision_perceptron],\n",
    "    \"Recall_death\": [svc_recall,recall_log,xgb_recall,recall_forest,recall_gaussian,recall_perceptron]\n",
    "}\n",
    "\n",
    ")\n",
    "\n",
    "result_df = results.sort_values(by='Validation_acc_score', ascending=False)\n",
    "result_df = result_df.set_index('MODEL NAME')\n",
    "result_df.applymap(lambda x: round(x,2))"
   ]
  },
  {
   "cell_type": "markdown",
   "id": "30b00c71",
   "metadata": {},
   "source": [
    "En iyi model olarak XGBoost görülüyor. Şimdi nihai olarak test seti ile yeniden skorlarına bakalım. "
   ]
  },
  {
   "cell_type": "code",
   "execution_count": 381,
   "id": "6ac2a526",
   "metadata": {},
   "outputs": [
    {
     "data": {
      "text/plain": [
       "['last_xgb']"
      ]
     },
     "execution_count": 381,
     "metadata": {},
     "output_type": "execute_result"
    }
   ],
   "source": [
    "model_xgb = xgb.fit(X_train,Y_train)\n",
    "dump(model_xgb,\"last_xgb\")"
   ]
  },
  {
   "cell_type": "code",
   "execution_count": 382,
   "id": "3e6ff5ee",
   "metadata": {},
   "outputs": [],
   "source": [
    "pred_test = xgb.predict(X_test)"
   ]
  },
  {
   "cell_type": "code",
   "execution_count": 383,
   "id": "02f9d996",
   "metadata": {},
   "outputs": [
    {
     "name": "stdout",
     "output_type": "stream",
     "text": [
      "              precision    recall  f1-score   support\n",
      "\n",
      "           0       0.95      0.87      0.91     14924\n",
      "           1       0.88      0.95      0.92     14962\n",
      "\n",
      "    accuracy                           0.91     29886\n",
      "   macro avg       0.92      0.91      0.91     29886\n",
      "weighted avg       0.92      0.91      0.91     29886\n",
      "\n"
     ]
    }
   ],
   "source": [
    "print(classification_report(Y_test,pred_test))"
   ]
  },
  {
   "cell_type": "markdown",
   "id": "914cf189",
   "metadata": {},
   "source": [
    "Yukardaki rapor validasyon seti ile aynı çıktı."
   ]
  },
  {
   "cell_type": "code",
   "execution_count": 384,
   "id": "f8147c21",
   "metadata": {},
   "outputs": [
    {
     "name": "stdout",
     "output_type": "stream",
     "text": [
      "precision for death: 0.88\n",
      "recall for death: 0.95\n"
     ]
    },
    {
     "data": {
      "image/png": "[encoded data removed]",
      "text/plain": [
       "<Figure size 640x480 with 2 Axes>"
      ]
     },
     "metadata": {},
     "output_type": "display_data"
    }
   ],
   "source": [
    "xgb_confusion = confusion_matrix(Y_test, pred_test)\n",
    "\n",
    "plt.title('XGBoost Confusion Matrix')\n",
    "sns.heatmap(xgb_confusion, cmap=plt.cm.Blues, annot=True, square=True,fmt=\".0f\",\n",
    "            xticklabels=[\"LIVE\",\"DIED\"],yticklabels=[\"LIVE\",\"DIED\"])\n",
    "plt.xlabel('Predicted')\n",
    "plt.ylabel('Actual');\n",
    "print(\"precision for death:\",round(precision_score(Y_test,pred_test),2))\n",
    "print(\"recall for death:\",round(recall_score(Y_test,pred_test),2))"
   ]
  },
  {
   "cell_type": "code",
   "execution_count": 385,
   "id": "b20dbb1e",
   "metadata": {},
   "outputs": [
    {
     "name": "stdout",
     "output_type": "stream",
     "text": [
      "recall_lived: 0.88\n"
     ]
    }
   ],
   "source": [
    "print(\"recall_lived:\", round(13084/(13084+1840),2) )"
   ]
  },
  {
   "cell_type": "markdown",
   "id": "2ced0502",
   "metadata": {},
   "source": [
    "**cross validation**"
   ]
  },
  {
   "cell_type": "markdown",
   "id": "cb1ac49c",
   "metadata": {},
   "source": [
    "Bir de cross validation ile teyit edelim: Scores: [0.91273506 0.91347119 0.91567958 0.91534498 0.91748645 0.91313659\n",
    " 0.91306966 0.91601419 0.91252844 0.91620934]\n",
    "Mean: 0.9145675482686617\n",
    "Standard Deviation: 0.001678050071065035"
   ]
  },
  {
   "cell_type": "raw",
   "id": "c8e002aa",
   "metadata": {},
   "source": [
    "# biraz uzun suruyor\n",
    "from sklearn.model_selection import cross_val_score\n",
    "\n",
    "scores_accuracy = cross_val_score(model_xgb, X, y, cv=10, scoring = \"accuracy\")\n",
    "\n",
    "print(\"Scores:\", scores_accuracy)\n",
    "print(\"Mean:\", scores_accuracy.mean())\n",
    "print(\"Standard Deviation:\", scores_accuracy.std())"
   ]
  },
  {
   "cell_type": "markdown",
   "id": "65aa2407",
   "metadata": {},
   "source": [
    "**Best threshold = 0.7**"
   ]
  },
  {
   "cell_type": "code",
   "execution_count": 386,
   "id": "f56d40f5",
   "metadata": {
    "scrolled": false
   },
   "outputs": [
    {
     "data": {
      "application/vnd.jupyter.widget-view+json": {
       "model_id": "b5d617aaaf6f49bbbf1f9515e640947c",
       "version_major": 2,
       "version_minor": 0
      },
      "text/plain": [
       "interactive(children=(FloatSlider(value=0.5, description='threshold', max=1.0, step=0.05), Output()), _dom_cla…"
      ]
     },
     "metadata": {},
     "output_type": "display_data"
    }
   ],
   "source": [
    "from ipywidgets import interactive, FloatSlider\n",
    "interactive(lambda threshold: make_confusion_matrix(model_xgb, threshold), threshold=(0.0,1.0,0.05))"
   ]
  },
  {
   "cell_type": "markdown",
   "id": "4b40ceab",
   "metadata": {},
   "source": [
    "**XGBoost success over the TEST set** "
   ]
  },
  {
   "cell_type": "code",
   "execution_count": 387,
   "id": "0cb1ac9e",
   "metadata": {},
   "outputs": [
    {
     "data": {
      "text/plain": [
       "29886"
      ]
     },
     "execution_count": 387,
     "metadata": {},
     "output_type": "execute_result"
    }
   ],
   "source": [
    "len(X_test)"
   ]
  },
  {
   "cell_type": "code",
   "execution_count": 388,
   "id": "945d1e2e",
   "metadata": {},
   "outputs": [
    {
     "data": {
      "image/png": "[encoded data removed]",
      "text/plain": [
       "<Figure size 512x384 with 1 Axes>"
      ]
     },
     "metadata": {},
     "output_type": "display_data"
    }
   ],
   "source": [
    "precision_curve, recall_curve, threshold_curve = precision_recall_curve(Y_test, model_xgb.predict_proba(X_test)[:,1])\n",
    "\n",
    "plt.figure(dpi=80)\n",
    "plt.plot(threshold_curve, precision_curve[1:], label='Precision')\n",
    "plt.plot(threshold_curve, recall_curve[1:], label='Recall')\n",
    "\n",
    "plt.legend()\n",
    "plt.xlabel('Threshold (Above this Probability, Label as DIED)');\n",
    "plt.title('Precision and Recall Curves');"
   ]
  },
  {
   "cell_type": "code",
   "execution_count": 389,
   "id": "e49bed82",
   "metadata": {},
   "outputs": [
    {
     "name": "stdout",
     "output_type": "stream",
     "text": [
      "Best Threshold: 0.72\n",
      "Precision: 0.9070,   Recall: 0.8966 for DEAD\n",
      "Precision for DEATH: 0.907\n",
      "Recall for DEATH: 0.897\n",
      "Accuracy: 0.9022\n"
     ]
    },
    {
     "data": {
      "image/png": "[encoded data removed]",
      "text/plain": [
       "<Figure size 640x480 with 2 Axes>"
      ]
     },
     "metadata": {},
     "output_type": "display_data"
    }
   ],
   "source": [
    "best_threshold = 0.72\n",
    "pred_th = (model_xgb.predict_proba(X_test)[:,1] > best_threshold)\n",
    "print('Best Threshold:', best_threshold)\n",
    "print('Precision: {:6.4f},   Recall: {:6.4f} for DEAD'.format(precision_score(Y_test, pred_th), \n",
    "                                                     recall_score(Y_test, pred_th)))\n",
    "\n",
    "\n",
    "mat = confusion_matrix(Y_test, pred_th)\n",
    "sns.heatmap(mat, cmap=plt.cm.Blues, annot=True, square=True,fmt=\".0f\", \n",
    "                xticklabels=[\"LIVE\",\"DIED\"],yticklabels=[\"LIVE\",\"DIED\"])\n",
    "plt.xlabel('Predicted')\n",
    "plt.ylabel('Actual')\n",
    "print(\"Precision for DEATH:\",round(precision_score(Y_test,pred_th),3))\n",
    "print(\"Recall for DEATH:\",round(recall_score(Y_test,pred_th),3))\n",
    "print(\"Accuracy:\",round((mat[0,0] +mat[1,1])/(mat[0,0]+mat[1,1]+mat[0,1]+mat[1,0]),4));"
   ]
  },
  {
   "cell_type": "markdown",
   "id": "8c1611bf",
   "metadata": {},
   "source": [
    "# MY TABLE"
   ]
  },
  {
   "cell_type": "code",
   "execution_count": 390,
   "id": "0d1dc9ad",
   "metadata": {},
   "outputs": [],
   "source": [
    "# target sütunun değişkenler sütunu ile birleştirelim\n",
    "data = pd.concat([X_test,Y_test],axis=1)"
   ]
  },
  {
   "cell_type": "code",
   "execution_count": 391,
   "id": "3e6e26e6",
   "metadata": {},
   "outputs": [
    {
     "data": {
      "text/html": [
       "<div>\n",
       "<style scoped>\n",
       "    .dataframe tbody tr th:only-of-type {\n",
       "        vertical-align: middle;\n",
       "    }\n",
       "\n",
       "    .dataframe tbody tr th {\n",
       "        vertical-align: top;\n",
       "    }\n",
       "\n",
       "    .dataframe thead th {\n",
       "        text-align: right;\n",
       "    }\n",
       "</style>\n",
       "<table border=\"1\" class=\"dataframe\">\n",
       "  <thead>\n",
       "    <tr style=\"text-align: right;\">\n",
       "      <th></th>\n",
       "      <th>USMER</th>\n",
       "      <th>MEDICAL_UNIT</th>\n",
       "      <th>SEX</th>\n",
       "      <th>HOSP</th>\n",
       "      <th>PNEUMONIA</th>\n",
       "      <th>DIABETES</th>\n",
       "      <th>INMSUPR</th>\n",
       "      <th>HIPERTENSION</th>\n",
       "      <th>OTHER_DISEASE</th>\n",
       "      <th>OBESITY</th>\n",
       "      <th>RENAL_CHRONIC</th>\n",
       "      <th>TOBACCO</th>\n",
       "      <th>CLASIFFICATION_FINAL</th>\n",
       "      <th>AGE_40-60</th>\n",
       "      <th>AGE_&gt;60</th>\n",
       "      <th>DIED</th>\n",
       "    </tr>\n",
       "  </thead>\n",
       "  <tbody>\n",
       "    <tr>\n",
       "      <th>78020</th>\n",
       "      <td>2</td>\n",
       "      <td>4</td>\n",
       "      <td>1</td>\n",
       "      <td>1</td>\n",
       "      <td>0</td>\n",
       "      <td>1</td>\n",
       "      <td>0</td>\n",
       "      <td>0</td>\n",
       "      <td>0</td>\n",
       "      <td>0</td>\n",
       "      <td>0</td>\n",
       "      <td>0</td>\n",
       "      <td>3</td>\n",
       "      <td>0</td>\n",
       "      <td>1</td>\n",
       "      <td>1</td>\n",
       "    </tr>\n",
       "    <tr>\n",
       "      <th>57680</th>\n",
       "      <td>1</td>\n",
       "      <td>12</td>\n",
       "      <td>0</td>\n",
       "      <td>1</td>\n",
       "      <td>1</td>\n",
       "      <td>0</td>\n",
       "      <td>0</td>\n",
       "      <td>0</td>\n",
       "      <td>0</td>\n",
       "      <td>1</td>\n",
       "      <td>0</td>\n",
       "      <td>0</td>\n",
       "      <td>3</td>\n",
       "      <td>0</td>\n",
       "      <td>0</td>\n",
       "      <td>0</td>\n",
       "    </tr>\n",
       "    <tr>\n",
       "      <th>31925</th>\n",
       "      <td>1</td>\n",
       "      <td>4</td>\n",
       "      <td>1</td>\n",
       "      <td>1</td>\n",
       "      <td>0</td>\n",
       "      <td>0</td>\n",
       "      <td>0</td>\n",
       "      <td>0</td>\n",
       "      <td>0</td>\n",
       "      <td>0</td>\n",
       "      <td>0</td>\n",
       "      <td>0</td>\n",
       "      <td>4</td>\n",
       "      <td>0</td>\n",
       "      <td>0</td>\n",
       "      <td>0</td>\n",
       "    </tr>\n",
       "    <tr>\n",
       "      <th>83968</th>\n",
       "      <td>1</td>\n",
       "      <td>6</td>\n",
       "      <td>1</td>\n",
       "      <td>1</td>\n",
       "      <td>0</td>\n",
       "      <td>1</td>\n",
       "      <td>0</td>\n",
       "      <td>1</td>\n",
       "      <td>0</td>\n",
       "      <td>1</td>\n",
       "      <td>1</td>\n",
       "      <td>0</td>\n",
       "      <td>4</td>\n",
       "      <td>0</td>\n",
       "      <td>1</td>\n",
       "      <td>1</td>\n",
       "    </tr>\n",
       "    <tr>\n",
       "      <th>55623</th>\n",
       "      <td>1</td>\n",
       "      <td>12</td>\n",
       "      <td>1</td>\n",
       "      <td>1</td>\n",
       "      <td>0</td>\n",
       "      <td>0</td>\n",
       "      <td>1</td>\n",
       "      <td>0</td>\n",
       "      <td>0</td>\n",
       "      <td>0</td>\n",
       "      <td>0</td>\n",
       "      <td>0</td>\n",
       "      <td>4</td>\n",
       "      <td>1</td>\n",
       "      <td>0</td>\n",
       "      <td>0</td>\n",
       "    </tr>\n",
       "    <tr>\n",
       "      <th>...</th>\n",
       "      <td>...</td>\n",
       "      <td>...</td>\n",
       "      <td>...</td>\n",
       "      <td>...</td>\n",
       "      <td>...</td>\n",
       "      <td>...</td>\n",
       "      <td>...</td>\n",
       "      <td>...</td>\n",
       "      <td>...</td>\n",
       "      <td>...</td>\n",
       "      <td>...</td>\n",
       "      <td>...</td>\n",
       "      <td>...</td>\n",
       "      <td>...</td>\n",
       "      <td>...</td>\n",
       "      <td>...</td>\n",
       "    </tr>\n",
       "    <tr>\n",
       "      <th>29710</th>\n",
       "      <td>2</td>\n",
       "      <td>9</td>\n",
       "      <td>1</td>\n",
       "      <td>1</td>\n",
       "      <td>0</td>\n",
       "      <td>0</td>\n",
       "      <td>0</td>\n",
       "      <td>0</td>\n",
       "      <td>0</td>\n",
       "      <td>0</td>\n",
       "      <td>0</td>\n",
       "      <td>0</td>\n",
       "      <td>4</td>\n",
       "      <td>0</td>\n",
       "      <td>1</td>\n",
       "      <td>0</td>\n",
       "    </tr>\n",
       "    <tr>\n",
       "      <th>89840</th>\n",
       "      <td>2</td>\n",
       "      <td>10</td>\n",
       "      <td>0</td>\n",
       "      <td>0</td>\n",
       "      <td>0</td>\n",
       "      <td>0</td>\n",
       "      <td>0</td>\n",
       "      <td>0</td>\n",
       "      <td>0</td>\n",
       "      <td>0</td>\n",
       "      <td>0</td>\n",
       "      <td>0</td>\n",
       "      <td>4</td>\n",
       "      <td>0</td>\n",
       "      <td>1</td>\n",
       "      <td>1</td>\n",
       "    </tr>\n",
       "    <tr>\n",
       "      <th>41639</th>\n",
       "      <td>2</td>\n",
       "      <td>9</td>\n",
       "      <td>1</td>\n",
       "      <td>0</td>\n",
       "      <td>0</td>\n",
       "      <td>0</td>\n",
       "      <td>0</td>\n",
       "      <td>0</td>\n",
       "      <td>0</td>\n",
       "      <td>0</td>\n",
       "      <td>0</td>\n",
       "      <td>0</td>\n",
       "      <td>4</td>\n",
       "      <td>0</td>\n",
       "      <td>0</td>\n",
       "      <td>0</td>\n",
       "    </tr>\n",
       "    <tr>\n",
       "      <th>107105</th>\n",
       "      <td>1</td>\n",
       "      <td>4</td>\n",
       "      <td>1</td>\n",
       "      <td>1</td>\n",
       "      <td>0</td>\n",
       "      <td>1</td>\n",
       "      <td>0</td>\n",
       "      <td>0</td>\n",
       "      <td>0</td>\n",
       "      <td>0</td>\n",
       "      <td>0</td>\n",
       "      <td>0</td>\n",
       "      <td>4</td>\n",
       "      <td>0</td>\n",
       "      <td>1</td>\n",
       "      <td>1</td>\n",
       "    </tr>\n",
       "    <tr>\n",
       "      <th>109095</th>\n",
       "      <td>2</td>\n",
       "      <td>9</td>\n",
       "      <td>0</td>\n",
       "      <td>0</td>\n",
       "      <td>0</td>\n",
       "      <td>1</td>\n",
       "      <td>0</td>\n",
       "      <td>1</td>\n",
       "      <td>0</td>\n",
       "      <td>0</td>\n",
       "      <td>0</td>\n",
       "      <td>0</td>\n",
       "      <td>4</td>\n",
       "      <td>1</td>\n",
       "      <td>0</td>\n",
       "      <td>1</td>\n",
       "    </tr>\n",
       "  </tbody>\n",
       "</table>\n",
       "<p>29886 rows × 16 columns</p>\n",
       "</div>"
      ],
      "text/plain": [
       "        USMER  MEDICAL_UNIT  SEX  HOSP  PNEUMONIA  DIABETES  INMSUPR  \\\n",
       "78020       2             4    1     1          0         1        0   \n",
       "57680       1            12    0     1          1         0        0   \n",
       "31925       1             4    1     1          0         0        0   \n",
       "83968       1             6    1     1          0         1        0   \n",
       "55623       1            12    1     1          0         0        1   \n",
       "...       ...           ...  ...   ...        ...       ...      ...   \n",
       "29710       2             9    1     1          0         0        0   \n",
       "89840       2            10    0     0          0         0        0   \n",
       "41639       2             9    1     0          0         0        0   \n",
       "107105      1             4    1     1          0         1        0   \n",
       "109095      2             9    0     0          0         1        0   \n",
       "\n",
       "        HIPERTENSION  OTHER_DISEASE  OBESITY  RENAL_CHRONIC  TOBACCO  \\\n",
       "78020              0              0        0              0        0   \n",
       "57680              0              0        1              0        0   \n",
       "31925              0              0        0              0        0   \n",
       "83968              1              0        1              1        0   \n",
       "55623              0              0        0              0        0   \n",
       "...              ...            ...      ...            ...      ...   \n",
       "29710              0              0        0              0        0   \n",
       "89840              0              0        0              0        0   \n",
       "41639              0              0        0              0        0   \n",
       "107105             0              0        0              0        0   \n",
       "109095             1              0        0              0        0   \n",
       "\n",
       "        CLASIFFICATION_FINAL  AGE_40-60  AGE_>60  DIED  \n",
       "78020                      3          0        1     1  \n",
       "57680                      3          0        0     0  \n",
       "31925                      4          0        0     0  \n",
       "83968                      4          0        1     1  \n",
       "55623                      4          1        0     0  \n",
       "...                      ...        ...      ...   ...  \n",
       "29710                      4          0        1     0  \n",
       "89840                      4          0        1     1  \n",
       "41639                      4          0        0     0  \n",
       "107105                     4          0        1     1  \n",
       "109095                     4          1        0     1  \n",
       "\n",
       "[29886 rows x 16 columns]"
      ]
     },
     "execution_count": 391,
     "metadata": {},
     "output_type": "execute_result"
    }
   ],
   "source": [
    "data"
   ]
  },
  {
   "cell_type": "code",
   "execution_count": 392,
   "id": "191b86b4",
   "metadata": {},
   "outputs": [
    {
     "data": {
      "text/plain": [
       "0        0.942075\n",
       "1        0.867808\n",
       "2        0.581860\n",
       "3        0.843024\n",
       "4        0.743445\n",
       "           ...   \n",
       "29881    0.345912\n",
       "29882    0.847308\n",
       "29883    0.003835\n",
       "29884    0.913047\n",
       "29885    0.039538\n",
       "Length: 29886, dtype: float32"
      ]
     },
     "execution_count": 392,
     "metadata": {},
     "output_type": "execute_result"
    }
   ],
   "source": [
    "prob = model_xgb.predict_proba(X_test)[:,1]\n",
    "prob = pd.Series(prob)\n",
    "prob"
   ]
  },
  {
   "cell_type": "code",
   "execution_count": 393,
   "id": "60163e7f",
   "metadata": {},
   "outputs": [
    {
     "data": {
      "text/plain": [
       "array([ True,  True, False, ..., False,  True, False])"
      ]
     },
     "execution_count": 393,
     "metadata": {},
     "output_type": "execute_result"
    }
   ],
   "source": [
    "pred_last = (model_xgb.predict_proba(X_test)[:,1] > best_threshold)\n",
    "pred_last"
   ]
  },
  {
   "cell_type": "markdown",
   "id": "75ee35cc",
   "metadata": {},
   "source": [
    "True means machine predicts \"died\""
   ]
  },
  {
   "cell_type": "code",
   "execution_count": 394,
   "id": "33509171",
   "metadata": {},
   "outputs": [
    {
     "data": {
      "text/plain": [
       "0        1\n",
       "1        1\n",
       "2        0\n",
       "3        1\n",
       "4        1\n",
       "        ..\n",
       "29881    0\n",
       "29882    1\n",
       "29883    0\n",
       "29884    1\n",
       "29885    0\n",
       "Length: 29886, dtype: int64"
      ]
     },
     "execution_count": 394,
     "metadata": {},
     "output_type": "execute_result"
    }
   ],
   "source": [
    "pred_last1 = pd.Series(pred_last).apply(lambda x: 1 if x==True else 0)\n",
    "pred_last1"
   ]
  },
  {
   "cell_type": "code",
   "execution_count": 395,
   "id": "76384237",
   "metadata": {
    "scrolled": true
   },
   "outputs": [
    {
     "data": {
      "text/html": [
       "<div>\n",
       "<style scoped>\n",
       "    .dataframe tbody tr th:only-of-type {\n",
       "        vertical-align: middle;\n",
       "    }\n",
       "\n",
       "    .dataframe tbody tr th {\n",
       "        vertical-align: top;\n",
       "    }\n",
       "\n",
       "    .dataframe thead th {\n",
       "        text-align: right;\n",
       "    }\n",
       "</style>\n",
       "<table border=\"1\" class=\"dataframe\">\n",
       "  <thead>\n",
       "    <tr style=\"text-align: right;\">\n",
       "      <th></th>\n",
       "      <th>DIED</th>\n",
       "      <th>0</th>\n",
       "    </tr>\n",
       "  </thead>\n",
       "  <tbody>\n",
       "    <tr>\n",
       "      <th>0</th>\n",
       "      <td>1</td>\n",
       "      <td>1</td>\n",
       "    </tr>\n",
       "    <tr>\n",
       "      <th>1</th>\n",
       "      <td>0</td>\n",
       "      <td>1</td>\n",
       "    </tr>\n",
       "    <tr>\n",
       "      <th>2</th>\n",
       "      <td>0</td>\n",
       "      <td>0</td>\n",
       "    </tr>\n",
       "    <tr>\n",
       "      <th>3</th>\n",
       "      <td>1</td>\n",
       "      <td>1</td>\n",
       "    </tr>\n",
       "    <tr>\n",
       "      <th>4</th>\n",
       "      <td>0</td>\n",
       "      <td>1</td>\n",
       "    </tr>\n",
       "    <tr>\n",
       "      <th>...</th>\n",
       "      <td>...</td>\n",
       "      <td>...</td>\n",
       "    </tr>\n",
       "    <tr>\n",
       "      <th>29881</th>\n",
       "      <td>0</td>\n",
       "      <td>0</td>\n",
       "    </tr>\n",
       "    <tr>\n",
       "      <th>29882</th>\n",
       "      <td>1</td>\n",
       "      <td>1</td>\n",
       "    </tr>\n",
       "    <tr>\n",
       "      <th>29883</th>\n",
       "      <td>0</td>\n",
       "      <td>0</td>\n",
       "    </tr>\n",
       "    <tr>\n",
       "      <th>29884</th>\n",
       "      <td>1</td>\n",
       "      <td>1</td>\n",
       "    </tr>\n",
       "    <tr>\n",
       "      <th>29885</th>\n",
       "      <td>1</td>\n",
       "      <td>0</td>\n",
       "    </tr>\n",
       "  </tbody>\n",
       "</table>\n",
       "<p>29886 rows × 2 columns</p>\n",
       "</div>"
      ],
      "text/plain": [
       "       DIED  0\n",
       "0         1  1\n",
       "1         0  1\n",
       "2         0  0\n",
       "3         1  1\n",
       "4         0  1\n",
       "...     ... ..\n",
       "29881     0  0\n",
       "29882     1  1\n",
       "29883     0  0\n",
       "29884     1  1\n",
       "29885     1  0\n",
       "\n",
       "[29886 rows x 2 columns]"
      ]
     },
     "execution_count": 395,
     "metadata": {},
     "output_type": "execute_result"
    }
   ],
   "source": [
    "pd.concat([Y_test.reset_index(drop=True),pred_last1],axis=1)"
   ]
  },
  {
   "cell_type": "code",
   "execution_count": 396,
   "id": "1976076f",
   "metadata": {},
   "outputs": [
    {
     "data": {
      "text/html": [
       "<div>\n",
       "<style scoped>\n",
       "    .dataframe tbody tr th:only-of-type {\n",
       "        vertical-align: middle;\n",
       "    }\n",
       "\n",
       "    .dataframe tbody tr th {\n",
       "        vertical-align: top;\n",
       "    }\n",
       "\n",
       "    .dataframe thead th {\n",
       "        text-align: right;\n",
       "    }\n",
       "</style>\n",
       "<table border=\"1\" class=\"dataframe\">\n",
       "  <thead>\n",
       "    <tr style=\"text-align: right;\">\n",
       "      <th></th>\n",
       "      <th>USMER</th>\n",
       "      <th>MEDICAL_UNIT</th>\n",
       "      <th>SEX</th>\n",
       "      <th>HOSP</th>\n",
       "      <th>PNEUMONIA</th>\n",
       "      <th>DIABETES</th>\n",
       "      <th>INMSUPR</th>\n",
       "      <th>HIPERTENSION</th>\n",
       "      <th>OTHER_DISEASE</th>\n",
       "      <th>OBESITY</th>\n",
       "      <th>RENAL_CHRONIC</th>\n",
       "      <th>TOBACCO</th>\n",
       "      <th>CLASIFFICATION_FINAL</th>\n",
       "      <th>AGE_40-60</th>\n",
       "      <th>AGE_&gt;60</th>\n",
       "      <th>DIED</th>\n",
       "      <th>Prob_dead</th>\n",
       "      <th>PRED</th>\n",
       "    </tr>\n",
       "  </thead>\n",
       "  <tbody>\n",
       "    <tr>\n",
       "      <th>0</th>\n",
       "      <td>2</td>\n",
       "      <td>4</td>\n",
       "      <td>1</td>\n",
       "      <td>1</td>\n",
       "      <td>0</td>\n",
       "      <td>1</td>\n",
       "      <td>0</td>\n",
       "      <td>0</td>\n",
       "      <td>0</td>\n",
       "      <td>0</td>\n",
       "      <td>0</td>\n",
       "      <td>0</td>\n",
       "      <td>3</td>\n",
       "      <td>0</td>\n",
       "      <td>1</td>\n",
       "      <td>1</td>\n",
       "      <td>0.942075</td>\n",
       "      <td>1</td>\n",
       "    </tr>\n",
       "    <tr>\n",
       "      <th>1</th>\n",
       "      <td>1</td>\n",
       "      <td>12</td>\n",
       "      <td>0</td>\n",
       "      <td>1</td>\n",
       "      <td>1</td>\n",
       "      <td>0</td>\n",
       "      <td>0</td>\n",
       "      <td>0</td>\n",
       "      <td>0</td>\n",
       "      <td>1</td>\n",
       "      <td>0</td>\n",
       "      <td>0</td>\n",
       "      <td>3</td>\n",
       "      <td>0</td>\n",
       "      <td>0</td>\n",
       "      <td>0</td>\n",
       "      <td>0.867808</td>\n",
       "      <td>1</td>\n",
       "    </tr>\n",
       "    <tr>\n",
       "      <th>2</th>\n",
       "      <td>1</td>\n",
       "      <td>4</td>\n",
       "      <td>1</td>\n",
       "      <td>1</td>\n",
       "      <td>0</td>\n",
       "      <td>0</td>\n",
       "      <td>0</td>\n",
       "      <td>0</td>\n",
       "      <td>0</td>\n",
       "      <td>0</td>\n",
       "      <td>0</td>\n",
       "      <td>0</td>\n",
       "      <td>4</td>\n",
       "      <td>0</td>\n",
       "      <td>0</td>\n",
       "      <td>0</td>\n",
       "      <td>0.581860</td>\n",
       "      <td>0</td>\n",
       "    </tr>\n",
       "    <tr>\n",
       "      <th>3</th>\n",
       "      <td>1</td>\n",
       "      <td>6</td>\n",
       "      <td>1</td>\n",
       "      <td>1</td>\n",
       "      <td>0</td>\n",
       "      <td>1</td>\n",
       "      <td>0</td>\n",
       "      <td>1</td>\n",
       "      <td>0</td>\n",
       "      <td>1</td>\n",
       "      <td>1</td>\n",
       "      <td>0</td>\n",
       "      <td>4</td>\n",
       "      <td>0</td>\n",
       "      <td>1</td>\n",
       "      <td>1</td>\n",
       "      <td>0.843024</td>\n",
       "      <td>1</td>\n",
       "    </tr>\n",
       "    <tr>\n",
       "      <th>4</th>\n",
       "      <td>1</td>\n",
       "      <td>12</td>\n",
       "      <td>1</td>\n",
       "      <td>1</td>\n",
       "      <td>0</td>\n",
       "      <td>0</td>\n",
       "      <td>1</td>\n",
       "      <td>0</td>\n",
       "      <td>0</td>\n",
       "      <td>0</td>\n",
       "      <td>0</td>\n",
       "      <td>0</td>\n",
       "      <td>4</td>\n",
       "      <td>1</td>\n",
       "      <td>0</td>\n",
       "      <td>0</td>\n",
       "      <td>0.743445</td>\n",
       "      <td>1</td>\n",
       "    </tr>\n",
       "    <tr>\n",
       "      <th>...</th>\n",
       "      <td>...</td>\n",
       "      <td>...</td>\n",
       "      <td>...</td>\n",
       "      <td>...</td>\n",
       "      <td>...</td>\n",
       "      <td>...</td>\n",
       "      <td>...</td>\n",
       "      <td>...</td>\n",
       "      <td>...</td>\n",
       "      <td>...</td>\n",
       "      <td>...</td>\n",
       "      <td>...</td>\n",
       "      <td>...</td>\n",
       "      <td>...</td>\n",
       "      <td>...</td>\n",
       "      <td>...</td>\n",
       "      <td>...</td>\n",
       "      <td>...</td>\n",
       "    </tr>\n",
       "    <tr>\n",
       "      <th>29881</th>\n",
       "      <td>2</td>\n",
       "      <td>9</td>\n",
       "      <td>1</td>\n",
       "      <td>1</td>\n",
       "      <td>0</td>\n",
       "      <td>0</td>\n",
       "      <td>0</td>\n",
       "      <td>0</td>\n",
       "      <td>0</td>\n",
       "      <td>0</td>\n",
       "      <td>0</td>\n",
       "      <td>0</td>\n",
       "      <td>4</td>\n",
       "      <td>0</td>\n",
       "      <td>1</td>\n",
       "      <td>0</td>\n",
       "      <td>0.345912</td>\n",
       "      <td>0</td>\n",
       "    </tr>\n",
       "    <tr>\n",
       "      <th>29882</th>\n",
       "      <td>2</td>\n",
       "      <td>10</td>\n",
       "      <td>0</td>\n",
       "      <td>0</td>\n",
       "      <td>0</td>\n",
       "      <td>0</td>\n",
       "      <td>0</td>\n",
       "      <td>0</td>\n",
       "      <td>0</td>\n",
       "      <td>0</td>\n",
       "      <td>0</td>\n",
       "      <td>0</td>\n",
       "      <td>4</td>\n",
       "      <td>0</td>\n",
       "      <td>1</td>\n",
       "      <td>1</td>\n",
       "      <td>0.847308</td>\n",
       "      <td>1</td>\n",
       "    </tr>\n",
       "    <tr>\n",
       "      <th>29883</th>\n",
       "      <td>2</td>\n",
       "      <td>9</td>\n",
       "      <td>1</td>\n",
       "      <td>0</td>\n",
       "      <td>0</td>\n",
       "      <td>0</td>\n",
       "      <td>0</td>\n",
       "      <td>0</td>\n",
       "      <td>0</td>\n",
       "      <td>0</td>\n",
       "      <td>0</td>\n",
       "      <td>0</td>\n",
       "      <td>4</td>\n",
       "      <td>0</td>\n",
       "      <td>0</td>\n",
       "      <td>0</td>\n",
       "      <td>0.003835</td>\n",
       "      <td>0</td>\n",
       "    </tr>\n",
       "    <tr>\n",
       "      <th>29884</th>\n",
       "      <td>1</td>\n",
       "      <td>4</td>\n",
       "      <td>1</td>\n",
       "      <td>1</td>\n",
       "      <td>0</td>\n",
       "      <td>1</td>\n",
       "      <td>0</td>\n",
       "      <td>0</td>\n",
       "      <td>0</td>\n",
       "      <td>0</td>\n",
       "      <td>0</td>\n",
       "      <td>0</td>\n",
       "      <td>4</td>\n",
       "      <td>0</td>\n",
       "      <td>1</td>\n",
       "      <td>1</td>\n",
       "      <td>0.913047</td>\n",
       "      <td>1</td>\n",
       "    </tr>\n",
       "    <tr>\n",
       "      <th>29885</th>\n",
       "      <td>2</td>\n",
       "      <td>9</td>\n",
       "      <td>0</td>\n",
       "      <td>0</td>\n",
       "      <td>0</td>\n",
       "      <td>1</td>\n",
       "      <td>0</td>\n",
       "      <td>1</td>\n",
       "      <td>0</td>\n",
       "      <td>0</td>\n",
       "      <td>0</td>\n",
       "      <td>0</td>\n",
       "      <td>4</td>\n",
       "      <td>1</td>\n",
       "      <td>0</td>\n",
       "      <td>1</td>\n",
       "      <td>0.039538</td>\n",
       "      <td>0</td>\n",
       "    </tr>\n",
       "  </tbody>\n",
       "</table>\n",
       "<p>29886 rows × 18 columns</p>\n",
       "</div>"
      ],
      "text/plain": [
       "       USMER  MEDICAL_UNIT  SEX  HOSP  PNEUMONIA  DIABETES  INMSUPR  \\\n",
       "0          2             4    1     1          0         1        0   \n",
       "1          1            12    0     1          1         0        0   \n",
       "2          1             4    1     1          0         0        0   \n",
       "3          1             6    1     1          0         1        0   \n",
       "4          1            12    1     1          0         0        1   \n",
       "...      ...           ...  ...   ...        ...       ...      ...   \n",
       "29881      2             9    1     1          0         0        0   \n",
       "29882      2            10    0     0          0         0        0   \n",
       "29883      2             9    1     0          0         0        0   \n",
       "29884      1             4    1     1          0         1        0   \n",
       "29885      2             9    0     0          0         1        0   \n",
       "\n",
       "       HIPERTENSION  OTHER_DISEASE  OBESITY  RENAL_CHRONIC  TOBACCO  \\\n",
       "0                 0              0        0              0        0   \n",
       "1                 0              0        1              0        0   \n",
       "2                 0              0        0              0        0   \n",
       "3                 1              0        1              1        0   \n",
       "4                 0              0        0              0        0   \n",
       "...             ...            ...      ...            ...      ...   \n",
       "29881             0              0        0              0        0   \n",
       "29882             0              0        0              0        0   \n",
       "29883             0              0        0              0        0   \n",
       "29884             0              0        0              0        0   \n",
       "29885             1              0        0              0        0   \n",
       "\n",
       "       CLASIFFICATION_FINAL  AGE_40-60  AGE_>60  DIED  Prob_dead  PRED  \n",
       "0                         3          0        1     1   0.942075     1  \n",
       "1                         3          0        0     0   0.867808     1  \n",
       "2                         4          0        0     0   0.581860     0  \n",
       "3                         4          0        1     1   0.843024     1  \n",
       "4                         4          1        0     0   0.743445     1  \n",
       "...                     ...        ...      ...   ...        ...   ...  \n",
       "29881                     4          0        1     0   0.345912     0  \n",
       "29882                     4          0        1     1   0.847308     1  \n",
       "29883                     4          0        0     0   0.003835     0  \n",
       "29884                     4          0        1     1   0.913047     1  \n",
       "29885                     4          1        0     1   0.039538     0  \n",
       "\n",
       "[29886 rows x 18 columns]"
      ]
     },
     "execution_count": 396,
     "metadata": {},
     "output_type": "execute_result"
    }
   ],
   "source": [
    "table = pd.concat([data.reset_index(drop=True),prob,pred_last1],axis=1).rename(columns = {0:'Prob_dead',1:\"PRED\"})\n",
    "table"
   ]
  },
  {
   "cell_type": "code",
   "execution_count": 397,
   "id": "d010f877",
   "metadata": {},
   "outputs": [
    {
     "data": {
      "text/plain": [
       "0        False\n",
       "1         True\n",
       "2        False\n",
       "3        False\n",
       "4         True\n",
       "         ...  \n",
       "29881    False\n",
       "29882    False\n",
       "29883    False\n",
       "29884    False\n",
       "29885     True\n",
       "Length: 29886, dtype: bool"
      ]
     },
     "execution_count": 397,
     "metadata": {},
     "output_type": "execute_result"
    }
   ],
   "source": [
    "error = (table.DIED != table.PRED)\n",
    "error"
   ]
  },
  {
   "cell_type": "code",
   "execution_count": 398,
   "id": "bb8ec314",
   "metadata": {},
   "outputs": [
    {
     "data": {
      "text/plain": [
       "False    26963\n",
       "True      2923\n",
       "dtype: int64"
      ]
     },
     "execution_count": 398,
     "metadata": {},
     "output_type": "execute_result"
    }
   ],
   "source": [
    "error.value_counts()"
   ]
  },
  {
   "cell_type": "code",
   "execution_count": 399,
   "id": "f37f7d95",
   "metadata": {},
   "outputs": [
    {
     "data": {
      "text/plain": [
       "0        0\n",
       "1       -1\n",
       "2        0\n",
       "3        0\n",
       "4       -1\n",
       "        ..\n",
       "29881    0\n",
       "29882    0\n",
       "29883    0\n",
       "29884    0\n",
       "29885    1\n",
       "Length: 29886, dtype: int64"
      ]
     },
     "execution_count": 399,
     "metadata": {},
     "output_type": "execute_result"
    }
   ],
   "source": [
    "diff = table.DIED - table.PRED\n",
    "diff"
   ]
  },
  {
   "cell_type": "code",
   "execution_count": 400,
   "id": "44020b36",
   "metadata": {},
   "outputs": [
    {
     "data": {
      "text/plain": [
       " 0    26963\n",
       " 1     1547\n",
       "-1     1376\n",
       "dtype: int64"
      ]
     },
     "execution_count": 400,
     "metadata": {},
     "output_type": "execute_result"
    }
   ],
   "source": [
    "diff.value_counts()"
   ]
  },
  {
   "cell_type": "code",
   "execution_count": 401,
   "id": "e006b3f2",
   "metadata": {
    "scrolled": true
   },
   "outputs": [
    {
     "data": {
      "image/png": "[encoded data removed]",
      "text/plain": [
       "<Figure size 640x480 with 1 Axes>"
      ]
     },
     "metadata": {},
     "output_type": "display_data"
    }
   ],
   "source": [
    "keys = ['TP+TF', 'FN={act:1,pred:0}','FP={act:0,pred:1}']\n",
    "# define Seaborn color palette to use\n",
    "palette_color = sns.color_palette('dark')\n",
    "plt.pie(diff.value_counts(), labels=keys, colors=palette_color, autopct='%.1f%%');"
   ]
  },
  {
   "cell_type": "code",
   "execution_count": 404,
   "id": "616a22c3",
   "metadata": {},
   "outputs": [
    {
     "data": {
      "text/plain": [
       "Index(['USMER', 'MEDICAL_UNIT', 'SEX', 'HOSP', 'PNEUMONIA', 'DIABETES',\n",
       "       'INMSUPR', 'HIPERTENSION', 'OTHER_DISEASE', 'OBESITY', 'RENAL_CHRONIC',\n",
       "       'TOBACCO', 'CLASIFFICATION_FINAL', 'AGE_40-60', 'AGE_>60'],\n",
       "      dtype='object')"
      ]
     },
     "execution_count": 404,
     "metadata": {},
     "output_type": "execute_result"
    }
   ],
   "source": [
    "X.columns"
   ]
  },
  {
   "cell_type": "code",
   "execution_count": 403,
   "id": "4a057c5b",
   "metadata": {},
   "outputs": [
    {
     "data": {
      "image/png": "[encoded data removed]",
      "text/plain": [
       "<Figure size 640x480 with 1 Axes>"
      ]
     },
     "metadata": {},
     "output_type": "display_data"
    }
   ],
   "source": [
    "plt.bar(range(len(model_xgb.feature_importances_)), model_xgb.feature_importances_);"
   ]
  },
  {
   "cell_type": "code",
   "execution_count": 406,
   "id": "82ca6ba5",
   "metadata": {},
   "outputs": [
    {
     "data": {
      "image/png": "[encoded data removed]",
      "text/plain": [
       "<Figure size 640x480 with 1 Axes>"
      ]
     },
     "metadata": {},
     "output_type": "display_data"
    }
   ],
   "source": [
    "from xgboost import plot_importance\n",
    "plot_importance(model_xgb);"
   ]
  },
  {
   "cell_type": "code",
   "execution_count": null,
   "id": "1dab5b9f",
   "metadata": {},
   "outputs": [],
   "source": []
  }
 ],
 "metadata": {
  "kernelspec": {
   "display_name": "Python 3 (ipykernel)",
   "language": "python",
   "name": "python3"
  },
  "language_info": {
   "codemirror_mode": {
    "name": "ipython",
    "version": 3
   },
   "file_extension": ".py",
   "mimetype": "text/x-python",
   "name": "python",
   "nbconvert_exporter": "python",
   "pygments_lexer": "ipython3",
   "version": "3.9.13"
  }
 },
 "nbformat": 4,
 "nbformat_minor": 5
}
